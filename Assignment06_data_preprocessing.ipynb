{
 "cells": [
  {
   "cell_type": "markdown",
   "id": "b0dec4c7",
   "metadata": {},
   "source": [
    "# Assignment06 - Sandeep Karanam - Data preprocessing notebook"
   ]
  },
  {
   "cell_type": "code",
   "execution_count": 1,
   "id": "8547fa76",
   "metadata": {},
   "outputs": [],
   "source": [
    "import pandas as pd\n",
    "import numpy as np\n",
    "from sklearn.model_selection import train_test_split\n",
    "from sklearn import preprocessing \n",
    "from sklearn.preprocessing import StandardScaler\n",
    "\n",
    "np.random.seed(42)"
   ]
  },
  {
   "cell_type": "markdown",
   "id": "4b9da2be",
   "metadata": {},
   "source": [
    "# Predictive Modeling for Customer Churn"
   ]
  },
  {
   "cell_type": "markdown",
   "id": "f862f50f",
   "metadata": {},
   "source": [
    "### Problem Statement :\n",
    "The dataset contains information about telecom customer behavior and attributes. The goal is to predict customer churn, which can be valuable for businesses to retain customers.\n",
    "\n",
    "This dataset is randomly collected from an Iranian telecom companyâ€™s database over a period of 12 months. A total of 3150 rows of data, each representing a customer, bear information for 13 columns. The attributes that are in this dataset\n",
    "are call failures, frequency of SMS, number of complaints, number of distinct calls, subscription length, age group, the charge amount, type of service, seconds of use, status, frequency of use, and Customer Value.\n",
    "\n",
    "All of the attributes except for attribute churn is the aggregated data of the first 9 months. The churn labels are the state of the customers at the end of 12 months. The three months is the designated planning gap.\n",
    "\n"
   ]
  },
  {
   "cell_type": "markdown",
   "id": "c0ba2249",
   "metadata": {},
   "source": [
    "# Load Data"
   ]
  },
  {
   "cell_type": "code",
   "execution_count": 2,
   "id": "e97c6b37",
   "metadata": {},
   "outputs": [
    {
     "data": {
      "text/html": [
       "<div>\n",
       "<style scoped>\n",
       "    .dataframe tbody tr th:only-of-type {\n",
       "        vertical-align: middle;\n",
       "    }\n",
       "\n",
       "    .dataframe tbody tr th {\n",
       "        vertical-align: top;\n",
       "    }\n",
       "\n",
       "    .dataframe thead th {\n",
       "        text-align: right;\n",
       "    }\n",
       "</style>\n",
       "<table border=\"1\" class=\"dataframe\">\n",
       "  <thead>\n",
       "    <tr style=\"text-align: right;\">\n",
       "      <th></th>\n",
       "      <th>Call  Failure</th>\n",
       "      <th>Complains</th>\n",
       "      <th>Subscription  Length</th>\n",
       "      <th>Charge  Amount</th>\n",
       "      <th>Seconds of Use</th>\n",
       "      <th>Frequency of use</th>\n",
       "      <th>Frequency of SMS</th>\n",
       "      <th>Distinct Called Numbers</th>\n",
       "      <th>Age Group</th>\n",
       "      <th>Tariff Plan</th>\n",
       "      <th>Status</th>\n",
       "      <th>Age</th>\n",
       "      <th>Customer Value</th>\n",
       "      <th>Churn</th>\n",
       "    </tr>\n",
       "  </thead>\n",
       "  <tbody>\n",
       "    <tr>\n",
       "      <th>0</th>\n",
       "      <td>8</td>\n",
       "      <td>0</td>\n",
       "      <td>38</td>\n",
       "      <td>0</td>\n",
       "      <td>4370</td>\n",
       "      <td>71</td>\n",
       "      <td>5</td>\n",
       "      <td>17</td>\n",
       "      <td>3</td>\n",
       "      <td>1</td>\n",
       "      <td>1</td>\n",
       "      <td>30</td>\n",
       "      <td>197.640</td>\n",
       "      <td>0</td>\n",
       "    </tr>\n",
       "    <tr>\n",
       "      <th>1</th>\n",
       "      <td>0</td>\n",
       "      <td>0</td>\n",
       "      <td>39</td>\n",
       "      <td>0</td>\n",
       "      <td>318</td>\n",
       "      <td>5</td>\n",
       "      <td>7</td>\n",
       "      <td>4</td>\n",
       "      <td>2</td>\n",
       "      <td>1</td>\n",
       "      <td>2</td>\n",
       "      <td>25</td>\n",
       "      <td>46.035</td>\n",
       "      <td>0</td>\n",
       "    </tr>\n",
       "    <tr>\n",
       "      <th>2</th>\n",
       "      <td>10</td>\n",
       "      <td>0</td>\n",
       "      <td>37</td>\n",
       "      <td>0</td>\n",
       "      <td>2453</td>\n",
       "      <td>60</td>\n",
       "      <td>359</td>\n",
       "      <td>24</td>\n",
       "      <td>3</td>\n",
       "      <td>1</td>\n",
       "      <td>1</td>\n",
       "      <td>30</td>\n",
       "      <td>1536.520</td>\n",
       "      <td>0</td>\n",
       "    </tr>\n",
       "    <tr>\n",
       "      <th>3</th>\n",
       "      <td>10</td>\n",
       "      <td>0</td>\n",
       "      <td>38</td>\n",
       "      <td>0</td>\n",
       "      <td>4198</td>\n",
       "      <td>66</td>\n",
       "      <td>1</td>\n",
       "      <td>35</td>\n",
       "      <td>1</td>\n",
       "      <td>1</td>\n",
       "      <td>1</td>\n",
       "      <td>15</td>\n",
       "      <td>240.020</td>\n",
       "      <td>0</td>\n",
       "    </tr>\n",
       "    <tr>\n",
       "      <th>4</th>\n",
       "      <td>3</td>\n",
       "      <td>0</td>\n",
       "      <td>38</td>\n",
       "      <td>0</td>\n",
       "      <td>2393</td>\n",
       "      <td>58</td>\n",
       "      <td>2</td>\n",
       "      <td>33</td>\n",
       "      <td>1</td>\n",
       "      <td>1</td>\n",
       "      <td>1</td>\n",
       "      <td>15</td>\n",
       "      <td>145.805</td>\n",
       "      <td>0</td>\n",
       "    </tr>\n",
       "    <tr>\n",
       "      <th>5</th>\n",
       "      <td>11</td>\n",
       "      <td>0</td>\n",
       "      <td>38</td>\n",
       "      <td>1</td>\n",
       "      <td>3775</td>\n",
       "      <td>82</td>\n",
       "      <td>32</td>\n",
       "      <td>28</td>\n",
       "      <td>3</td>\n",
       "      <td>1</td>\n",
       "      <td>1</td>\n",
       "      <td>30</td>\n",
       "      <td>282.280</td>\n",
       "      <td>0</td>\n",
       "    </tr>\n",
       "    <tr>\n",
       "      <th>6</th>\n",
       "      <td>4</td>\n",
       "      <td>0</td>\n",
       "      <td>38</td>\n",
       "      <td>0</td>\n",
       "      <td>2360</td>\n",
       "      <td>39</td>\n",
       "      <td>285</td>\n",
       "      <td>18</td>\n",
       "      <td>3</td>\n",
       "      <td>1</td>\n",
       "      <td>1</td>\n",
       "      <td>30</td>\n",
       "      <td>1235.960</td>\n",
       "      <td>0</td>\n",
       "    </tr>\n",
       "    <tr>\n",
       "      <th>7</th>\n",
       "      <td>13</td>\n",
       "      <td>0</td>\n",
       "      <td>37</td>\n",
       "      <td>2</td>\n",
       "      <td>9115</td>\n",
       "      <td>121</td>\n",
       "      <td>144</td>\n",
       "      <td>43</td>\n",
       "      <td>3</td>\n",
       "      <td>1</td>\n",
       "      <td>1</td>\n",
       "      <td>30</td>\n",
       "      <td>945.440</td>\n",
       "      <td>0</td>\n",
       "    </tr>\n",
       "    <tr>\n",
       "      <th>8</th>\n",
       "      <td>7</td>\n",
       "      <td>0</td>\n",
       "      <td>38</td>\n",
       "      <td>0</td>\n",
       "      <td>13773</td>\n",
       "      <td>169</td>\n",
       "      <td>0</td>\n",
       "      <td>44</td>\n",
       "      <td>3</td>\n",
       "      <td>1</td>\n",
       "      <td>1</td>\n",
       "      <td>30</td>\n",
       "      <td>557.680</td>\n",
       "      <td>0</td>\n",
       "    </tr>\n",
       "    <tr>\n",
       "      <th>9</th>\n",
       "      <td>7</td>\n",
       "      <td>0</td>\n",
       "      <td>38</td>\n",
       "      <td>1</td>\n",
       "      <td>4515</td>\n",
       "      <td>83</td>\n",
       "      <td>2</td>\n",
       "      <td>25</td>\n",
       "      <td>3</td>\n",
       "      <td>1</td>\n",
       "      <td>1</td>\n",
       "      <td>30</td>\n",
       "      <td>191.920</td>\n",
       "      <td>0</td>\n",
       "    </tr>\n",
       "  </tbody>\n",
       "</table>\n",
       "</div>"
      ],
      "text/plain": [
       "   Call  Failure  Complains  Subscription  Length  Charge  Amount  \\\n",
       "0              8          0                    38               0   \n",
       "1              0          0                    39               0   \n",
       "2             10          0                    37               0   \n",
       "3             10          0                    38               0   \n",
       "4              3          0                    38               0   \n",
       "5             11          0                    38               1   \n",
       "6              4          0                    38               0   \n",
       "7             13          0                    37               2   \n",
       "8              7          0                    38               0   \n",
       "9              7          0                    38               1   \n",
       "\n",
       "   Seconds of Use  Frequency of use  Frequency of SMS  \\\n",
       "0            4370                71                 5   \n",
       "1             318                 5                 7   \n",
       "2            2453                60               359   \n",
       "3            4198                66                 1   \n",
       "4            2393                58                 2   \n",
       "5            3775                82                32   \n",
       "6            2360                39               285   \n",
       "7            9115               121               144   \n",
       "8           13773               169                 0   \n",
       "9            4515                83                 2   \n",
       "\n",
       "   Distinct Called Numbers  Age Group  Tariff Plan  Status  Age  \\\n",
       "0                       17          3            1       1   30   \n",
       "1                        4          2            1       2   25   \n",
       "2                       24          3            1       1   30   \n",
       "3                       35          1            1       1   15   \n",
       "4                       33          1            1       1   15   \n",
       "5                       28          3            1       1   30   \n",
       "6                       18          3            1       1   30   \n",
       "7                       43          3            1       1   30   \n",
       "8                       44          3            1       1   30   \n",
       "9                       25          3            1       1   30   \n",
       "\n",
       "   Customer Value  Churn  \n",
       "0         197.640      0  \n",
       "1          46.035      0  \n",
       "2        1536.520      0  \n",
       "3         240.020      0  \n",
       "4         145.805      0  \n",
       "5         282.280      0  \n",
       "6        1235.960      0  \n",
       "7         945.440      0  \n",
       "8         557.680      0  \n",
       "9         191.920      0  "
      ]
     },
     "execution_count": 2,
     "metadata": {},
     "output_type": "execute_result"
    }
   ],
   "source": [
    "df=pd.read_csv('C:/Users/sande/Downloads/customer_churn.csv')\n",
    "df.head(10)"
   ]
  },
  {
   "cell_type": "markdown",
   "id": "1b07d24e",
   "metadata": {},
   "source": [
    "# Preparing the Data"
   ]
  },
  {
   "cell_type": "markdown",
   "id": "44f85884",
   "metadata": {},
   "source": [
    "Check column names, and for convenience, remove whitespaces..."
   ]
  },
  {
   "cell_type": "code",
   "execution_count": 3,
   "id": "a5dddb68",
   "metadata": {},
   "outputs": [
    {
     "data": {
      "text/plain": [
       "Index(['Call  Failure', 'Complains', 'Subscription  Length', 'Charge  Amount',\n",
       "       'Seconds of Use', 'Frequency of use', 'Frequency of SMS',\n",
       "       'Distinct Called Numbers', 'Age Group', 'Tariff Plan', 'Status', 'Age',\n",
       "       'Customer Value', 'Churn'],\n",
       "      dtype='object')"
      ]
     },
     "execution_count": 3,
     "metadata": {},
     "output_type": "execute_result"
    }
   ],
   "source": [
    "df.columns"
   ]
  },
  {
   "cell_type": "code",
   "execution_count": 4,
   "id": "f4648d26",
   "metadata": {},
   "outputs": [
    {
     "data": {
      "text/plain": [
       "Index(['CALL__FAILURE', 'COMPLAINS', 'SUBSCRIPTION__LENGTH', 'CHARGE__AMOUNT',\n",
       "       'SECONDS_OF_USE', 'FREQUENCY_OF_USE', 'FREQUENCY_OF_SMS',\n",
       "       'DISTINCT_CALLED_NUMBERS', 'AGE_GROUP', 'TARIFF_PLAN', 'STATUS', 'AGE',\n",
       "       'CUSTOMER_VALUE', 'CHURN'],\n",
       "      dtype='object')"
      ]
     },
     "execution_count": 4,
     "metadata": {},
     "output_type": "execute_result"
    }
   ],
   "source": [
    "df.columns=[s.strip().upper().replace(' ','_') for s in df.columns]\n",
    "df.columns"
   ]
  },
  {
   "cell_type": "code",
   "execution_count": 5,
   "id": "21179ba0",
   "metadata": {},
   "outputs": [
    {
     "data": {
      "text/plain": [
       "Index(['CALL_FAILURE', 'COMPLAINS', 'SUBSCRIPTION_LENGTH', 'CHARGE_AMOUNT',\n",
       "       'SECONDS_OF_USE', 'FREQUENCY_OF_USE', 'FREQUENCY_OF_SMS',\n",
       "       'DISTINCT_CALLED_NUMBERS', 'AGE_GROUP', 'TARIFF_PLAN', 'STATUS', 'AGE',\n",
       "       'CUSTOMER_VALUE', 'CHURN'],\n",
       "      dtype='object')"
      ]
     },
     "execution_count": 5,
     "metadata": {},
     "output_type": "execute_result"
    }
   ],
   "source": [
    "df.columns=[s.replace('__','_') for s in df.columns]\n",
    "df.columns"
   ]
  },
  {
   "cell_type": "markdown",
   "id": "835a8971",
   "metadata": {},
   "source": [
    "We decide that a couple of variables aren't predictors; therefore we drop them and then check if there are any missing values in the remaining variables... In this we are dropping age_group since we already have age column and age gives more information. also dropping customer value which shows how much value is the customer to company based on seconds of use and other columns so, does not add value in predicting "
   ]
  },
  {
   "cell_type": "code",
   "execution_count": 6,
   "id": "8f6f19bc",
   "metadata": {},
   "outputs": [
    {
     "data": {
      "text/plain": [
       "Index(['CALL_FAILURE', 'COMPLAINS', 'SUBSCRIPTION_LENGTH', 'CHARGE_AMOUNT',\n",
       "       'SECONDS_OF_USE', 'FREQUENCY_OF_USE', 'FREQUENCY_OF_SMS',\n",
       "       'DISTINCT_CALLED_NUMBERS', 'TARIFF_PLAN', 'STATUS', 'AGE', 'CHURN'],\n",
       "      dtype='object')"
      ]
     },
     "execution_count": 6,
     "metadata": {},
     "output_type": "execute_result"
    }
   ],
   "source": [
    "# drop AGE_GROUP, and CUSTOMER_VALUE as predictors\n",
    "df = df.drop(columns=['AGE_GROUP', 'CUSTOMER_VALUE'])\n",
    "df.columns"
   ]
  },
  {
   "cell_type": "markdown",
   "id": "f62744b5",
   "metadata": {},
   "source": [
    "### Checking for missing values "
   ]
  },
  {
   "cell_type": "code",
   "execution_count": 7,
   "id": "44994b7a",
   "metadata": {},
   "outputs": [
    {
     "data": {
      "text/plain": [
       "CALL_FAILURE               0\n",
       "COMPLAINS                  0\n",
       "SUBSCRIPTION_LENGTH        0\n",
       "CHARGE_AMOUNT              0\n",
       "SECONDS_OF_USE             0\n",
       "FREQUENCY_OF_USE           0\n",
       "FREQUENCY_OF_SMS           0\n",
       "DISTINCT_CALLED_NUMBERS    0\n",
       "TARIFF_PLAN                0\n",
       "STATUS                     0\n",
       "AGE                        0\n",
       "CHURN                      0\n",
       "dtype: int64"
      ]
     },
     "execution_count": 7,
     "metadata": {},
     "output_type": "execute_result"
    }
   ],
   "source": [
    "df.isnull().sum()"
   ]
  },
  {
   "cell_type": "markdown",
   "id": "796dd176",
   "metadata": {},
   "source": [
    "no missing values in the data"
   ]
  },
  {
   "cell_type": "markdown",
   "id": "c14f61ba",
   "metadata": {},
   "source": [
    "### Check the variable types"
   ]
  },
  {
   "cell_type": "code",
   "execution_count": 8,
   "id": "8d9fb582",
   "metadata": {},
   "outputs": [
    {
     "data": {
      "text/plain": [
       "CALL_FAILURE               int64\n",
       "COMPLAINS                  int64\n",
       "SUBSCRIPTION_LENGTH        int64\n",
       "CHARGE_AMOUNT              int64\n",
       "SECONDS_OF_USE             int64\n",
       "FREQUENCY_OF_USE           int64\n",
       "FREQUENCY_OF_SMS           int64\n",
       "DISTINCT_CALLED_NUMBERS    int64\n",
       "TARIFF_PLAN                int64\n",
       "STATUS                     int64\n",
       "AGE                        int64\n",
       "CHURN                      int64\n",
       "dtype: object"
      ]
     },
     "execution_count": 8,
     "metadata": {},
     "output_type": "execute_result"
    }
   ],
   "source": [
    "df.dtypes"
   ]
  },
  {
   "cell_type": "markdown",
   "id": "d67b4a60",
   "metadata": {},
   "source": [
    "all the attributes in the dataset are of integer datatype"
   ]
  },
  {
   "cell_type": "code",
   "execution_count": 9,
   "id": "a3badb15",
   "metadata": {},
   "outputs": [
    {
     "data": {
      "text/plain": [
       "array([1, 2], dtype=int64)"
      ]
     },
     "execution_count": 9,
     "metadata": {},
     "output_type": "execute_result"
    }
   ],
   "source": [
    "df.STATUS.unique()"
   ]
  },
  {
   "cell_type": "markdown",
   "id": "e307f397",
   "metadata": {},
   "source": [
    "status attribute depicts customer connection is active or not active 1- active and 2-non active"
   ]
  },
  {
   "cell_type": "code",
   "execution_count": 10,
   "id": "5b3978e1",
   "metadata": {},
   "outputs": [],
   "source": [
    "df = pd.get_dummies(\n",
    "    df, \n",
    "    prefix_sep='_', \n",
    "    dummy_na=False, \n",
    "    drop_first=True, \n",
    "    columns=['STATUS'], \n",
    "    dtype='int8'\n",
    ")"
   ]
  },
  {
   "cell_type": "code",
   "execution_count": 11,
   "id": "720aee7f",
   "metadata": {},
   "outputs": [
    {
     "data": {
      "text/html": [
       "<div>\n",
       "<style scoped>\n",
       "    .dataframe tbody tr th:only-of-type {\n",
       "        vertical-align: middle;\n",
       "    }\n",
       "\n",
       "    .dataframe tbody tr th {\n",
       "        vertical-align: top;\n",
       "    }\n",
       "\n",
       "    .dataframe thead th {\n",
       "        text-align: right;\n",
       "    }\n",
       "</style>\n",
       "<table border=\"1\" class=\"dataframe\">\n",
       "  <thead>\n",
       "    <tr style=\"text-align: right;\">\n",
       "      <th></th>\n",
       "      <th>CALL_FAILURE</th>\n",
       "      <th>COMPLAINS</th>\n",
       "      <th>SUBSCRIPTION_LENGTH</th>\n",
       "      <th>CHARGE_AMOUNT</th>\n",
       "      <th>SECONDS_OF_USE</th>\n",
       "      <th>FREQUENCY_OF_USE</th>\n",
       "      <th>FREQUENCY_OF_SMS</th>\n",
       "      <th>DISTINCT_CALLED_NUMBERS</th>\n",
       "      <th>TARIFF_PLAN</th>\n",
       "      <th>AGE</th>\n",
       "      <th>CHURN</th>\n",
       "      <th>STATUS_2</th>\n",
       "    </tr>\n",
       "  </thead>\n",
       "  <tbody>\n",
       "    <tr>\n",
       "      <th>count</th>\n",
       "      <td>3150.000000</td>\n",
       "      <td>3150.000000</td>\n",
       "      <td>3150.000000</td>\n",
       "      <td>3150.000000</td>\n",
       "      <td>3150.000000</td>\n",
       "      <td>3150.000000</td>\n",
       "      <td>3150.000000</td>\n",
       "      <td>3150.000000</td>\n",
       "      <td>3150.000000</td>\n",
       "      <td>3150.000000</td>\n",
       "      <td>3150.000000</td>\n",
       "      <td>3150.000000</td>\n",
       "    </tr>\n",
       "    <tr>\n",
       "      <th>mean</th>\n",
       "      <td>7.627937</td>\n",
       "      <td>0.076508</td>\n",
       "      <td>32.541905</td>\n",
       "      <td>0.942857</td>\n",
       "      <td>4472.459683</td>\n",
       "      <td>69.460635</td>\n",
       "      <td>73.174921</td>\n",
       "      <td>23.509841</td>\n",
       "      <td>1.077778</td>\n",
       "      <td>30.998413</td>\n",
       "      <td>0.157143</td>\n",
       "      <td>0.248254</td>\n",
       "    </tr>\n",
       "    <tr>\n",
       "      <th>std</th>\n",
       "      <td>7.263886</td>\n",
       "      <td>0.265851</td>\n",
       "      <td>8.573482</td>\n",
       "      <td>1.521072</td>\n",
       "      <td>4197.908687</td>\n",
       "      <td>57.413308</td>\n",
       "      <td>112.237560</td>\n",
       "      <td>17.217337</td>\n",
       "      <td>0.267864</td>\n",
       "      <td>8.831095</td>\n",
       "      <td>0.363993</td>\n",
       "      <td>0.432069</td>\n",
       "    </tr>\n",
       "    <tr>\n",
       "      <th>min</th>\n",
       "      <td>0.000000</td>\n",
       "      <td>0.000000</td>\n",
       "      <td>3.000000</td>\n",
       "      <td>0.000000</td>\n",
       "      <td>0.000000</td>\n",
       "      <td>0.000000</td>\n",
       "      <td>0.000000</td>\n",
       "      <td>0.000000</td>\n",
       "      <td>1.000000</td>\n",
       "      <td>15.000000</td>\n",
       "      <td>0.000000</td>\n",
       "      <td>0.000000</td>\n",
       "    </tr>\n",
       "    <tr>\n",
       "      <th>25%</th>\n",
       "      <td>1.000000</td>\n",
       "      <td>0.000000</td>\n",
       "      <td>30.000000</td>\n",
       "      <td>0.000000</td>\n",
       "      <td>1391.250000</td>\n",
       "      <td>27.000000</td>\n",
       "      <td>6.000000</td>\n",
       "      <td>10.000000</td>\n",
       "      <td>1.000000</td>\n",
       "      <td>25.000000</td>\n",
       "      <td>0.000000</td>\n",
       "      <td>0.000000</td>\n",
       "    </tr>\n",
       "    <tr>\n",
       "      <th>50%</th>\n",
       "      <td>6.000000</td>\n",
       "      <td>0.000000</td>\n",
       "      <td>35.000000</td>\n",
       "      <td>0.000000</td>\n",
       "      <td>2990.000000</td>\n",
       "      <td>54.000000</td>\n",
       "      <td>21.000000</td>\n",
       "      <td>21.000000</td>\n",
       "      <td>1.000000</td>\n",
       "      <td>30.000000</td>\n",
       "      <td>0.000000</td>\n",
       "      <td>0.000000</td>\n",
       "    </tr>\n",
       "    <tr>\n",
       "      <th>75%</th>\n",
       "      <td>12.000000</td>\n",
       "      <td>0.000000</td>\n",
       "      <td>38.000000</td>\n",
       "      <td>1.000000</td>\n",
       "      <td>6478.250000</td>\n",
       "      <td>95.000000</td>\n",
       "      <td>87.000000</td>\n",
       "      <td>34.000000</td>\n",
       "      <td>1.000000</td>\n",
       "      <td>30.000000</td>\n",
       "      <td>0.000000</td>\n",
       "      <td>0.000000</td>\n",
       "    </tr>\n",
       "    <tr>\n",
       "      <th>max</th>\n",
       "      <td>36.000000</td>\n",
       "      <td>1.000000</td>\n",
       "      <td>47.000000</td>\n",
       "      <td>10.000000</td>\n",
       "      <td>17090.000000</td>\n",
       "      <td>255.000000</td>\n",
       "      <td>522.000000</td>\n",
       "      <td>97.000000</td>\n",
       "      <td>2.000000</td>\n",
       "      <td>55.000000</td>\n",
       "      <td>1.000000</td>\n",
       "      <td>1.000000</td>\n",
       "    </tr>\n",
       "  </tbody>\n",
       "</table>\n",
       "</div>"
      ],
      "text/plain": [
       "       CALL_FAILURE    COMPLAINS  SUBSCRIPTION_LENGTH  CHARGE_AMOUNT  \\\n",
       "count   3150.000000  3150.000000          3150.000000    3150.000000   \n",
       "mean       7.627937     0.076508            32.541905       0.942857   \n",
       "std        7.263886     0.265851             8.573482       1.521072   \n",
       "min        0.000000     0.000000             3.000000       0.000000   \n",
       "25%        1.000000     0.000000            30.000000       0.000000   \n",
       "50%        6.000000     0.000000            35.000000       0.000000   \n",
       "75%       12.000000     0.000000            38.000000       1.000000   \n",
       "max       36.000000     1.000000            47.000000      10.000000   \n",
       "\n",
       "       SECONDS_OF_USE  FREQUENCY_OF_USE  FREQUENCY_OF_SMS  \\\n",
       "count     3150.000000       3150.000000       3150.000000   \n",
       "mean      4472.459683         69.460635         73.174921   \n",
       "std       4197.908687         57.413308        112.237560   \n",
       "min          0.000000          0.000000          0.000000   \n",
       "25%       1391.250000         27.000000          6.000000   \n",
       "50%       2990.000000         54.000000         21.000000   \n",
       "75%       6478.250000         95.000000         87.000000   \n",
       "max      17090.000000        255.000000        522.000000   \n",
       "\n",
       "       DISTINCT_CALLED_NUMBERS  TARIFF_PLAN          AGE        CHURN  \\\n",
       "count              3150.000000  3150.000000  3150.000000  3150.000000   \n",
       "mean                 23.509841     1.077778    30.998413     0.157143   \n",
       "std                  17.217337     0.267864     8.831095     0.363993   \n",
       "min                   0.000000     1.000000    15.000000     0.000000   \n",
       "25%                  10.000000     1.000000    25.000000     0.000000   \n",
       "50%                  21.000000     1.000000    30.000000     0.000000   \n",
       "75%                  34.000000     1.000000    30.000000     0.000000   \n",
       "max                  97.000000     2.000000    55.000000     1.000000   \n",
       "\n",
       "          STATUS_2  \n",
       "count  3150.000000  \n",
       "mean      0.248254  \n",
       "std       0.432069  \n",
       "min       0.000000  \n",
       "25%       0.000000  \n",
       "50%       0.000000  \n",
       "75%       0.000000  \n",
       "max       1.000000  "
      ]
     },
     "execution_count": 11,
     "metadata": {},
     "output_type": "execute_result"
    }
   ],
   "source": [
    "df.describe()"
   ]
  },
  {
   "cell_type": "markdown",
   "id": "98cef7db",
   "metadata": {},
   "source": [
    "Will rename the status_2 column as status_non_active"
   ]
  },
  {
   "cell_type": "code",
   "execution_count": 12,
   "id": "43ef7a33",
   "metadata": {},
   "outputs": [],
   "source": [
    "df=df.rename(columns={'STATUS_2':'STATUS_NON_ACTIVE'})"
   ]
  },
  {
   "cell_type": "code",
   "execution_count": 13,
   "id": "66be946f",
   "metadata": {},
   "outputs": [
    {
     "data": {
      "text/html": [
       "<div>\n",
       "<style scoped>\n",
       "    .dataframe tbody tr th:only-of-type {\n",
       "        vertical-align: middle;\n",
       "    }\n",
       "\n",
       "    .dataframe tbody tr th {\n",
       "        vertical-align: top;\n",
       "    }\n",
       "\n",
       "    .dataframe thead th {\n",
       "        text-align: right;\n",
       "    }\n",
       "</style>\n",
       "<table border=\"1\" class=\"dataframe\">\n",
       "  <thead>\n",
       "    <tr style=\"text-align: right;\">\n",
       "      <th></th>\n",
       "      <th>CALL_FAILURE</th>\n",
       "      <th>COMPLAINS</th>\n",
       "      <th>SUBSCRIPTION_LENGTH</th>\n",
       "      <th>CHARGE_AMOUNT</th>\n",
       "      <th>SECONDS_OF_USE</th>\n",
       "      <th>FREQUENCY_OF_USE</th>\n",
       "      <th>FREQUENCY_OF_SMS</th>\n",
       "      <th>DISTINCT_CALLED_NUMBERS</th>\n",
       "      <th>TARIFF_PLAN</th>\n",
       "      <th>AGE</th>\n",
       "      <th>CHURN</th>\n",
       "      <th>STATUS_NON_ACTIVE</th>\n",
       "    </tr>\n",
       "  </thead>\n",
       "  <tbody>\n",
       "    <tr>\n",
       "      <th>0</th>\n",
       "      <td>8</td>\n",
       "      <td>0</td>\n",
       "      <td>38</td>\n",
       "      <td>0</td>\n",
       "      <td>4370</td>\n",
       "      <td>71</td>\n",
       "      <td>5</td>\n",
       "      <td>17</td>\n",
       "      <td>1</td>\n",
       "      <td>30</td>\n",
       "      <td>0</td>\n",
       "      <td>0</td>\n",
       "    </tr>\n",
       "    <tr>\n",
       "      <th>1</th>\n",
       "      <td>0</td>\n",
       "      <td>0</td>\n",
       "      <td>39</td>\n",
       "      <td>0</td>\n",
       "      <td>318</td>\n",
       "      <td>5</td>\n",
       "      <td>7</td>\n",
       "      <td>4</td>\n",
       "      <td>1</td>\n",
       "      <td>25</td>\n",
       "      <td>0</td>\n",
       "      <td>1</td>\n",
       "    </tr>\n",
       "    <tr>\n",
       "      <th>2</th>\n",
       "      <td>10</td>\n",
       "      <td>0</td>\n",
       "      <td>37</td>\n",
       "      <td>0</td>\n",
       "      <td>2453</td>\n",
       "      <td>60</td>\n",
       "      <td>359</td>\n",
       "      <td>24</td>\n",
       "      <td>1</td>\n",
       "      <td>30</td>\n",
       "      <td>0</td>\n",
       "      <td>0</td>\n",
       "    </tr>\n",
       "    <tr>\n",
       "      <th>3</th>\n",
       "      <td>10</td>\n",
       "      <td>0</td>\n",
       "      <td>38</td>\n",
       "      <td>0</td>\n",
       "      <td>4198</td>\n",
       "      <td>66</td>\n",
       "      <td>1</td>\n",
       "      <td>35</td>\n",
       "      <td>1</td>\n",
       "      <td>15</td>\n",
       "      <td>0</td>\n",
       "      <td>0</td>\n",
       "    </tr>\n",
       "    <tr>\n",
       "      <th>4</th>\n",
       "      <td>3</td>\n",
       "      <td>0</td>\n",
       "      <td>38</td>\n",
       "      <td>0</td>\n",
       "      <td>2393</td>\n",
       "      <td>58</td>\n",
       "      <td>2</td>\n",
       "      <td>33</td>\n",
       "      <td>1</td>\n",
       "      <td>15</td>\n",
       "      <td>0</td>\n",
       "      <td>0</td>\n",
       "    </tr>\n",
       "  </tbody>\n",
       "</table>\n",
       "</div>"
      ],
      "text/plain": [
       "   CALL_FAILURE  COMPLAINS  SUBSCRIPTION_LENGTH  CHARGE_AMOUNT  \\\n",
       "0             8          0                   38              0   \n",
       "1             0          0                   39              0   \n",
       "2            10          0                   37              0   \n",
       "3            10          0                   38              0   \n",
       "4             3          0                   38              0   \n",
       "\n",
       "   SECONDS_OF_USE  FREQUENCY_OF_USE  FREQUENCY_OF_SMS  \\\n",
       "0            4370                71                 5   \n",
       "1             318                 5                 7   \n",
       "2            2453                60               359   \n",
       "3            4198                66                 1   \n",
       "4            2393                58                 2   \n",
       "\n",
       "   DISTINCT_CALLED_NUMBERS  TARIFF_PLAN  AGE  CHURN  STATUS_NON_ACTIVE  \n",
       "0                       17            1   30      0                  0  \n",
       "1                        4            1   25      0                  1  \n",
       "2                       24            1   30      0                  0  \n",
       "3                       35            1   15      0                  0  \n",
       "4                       33            1   15      0                  0  "
      ]
     },
     "execution_count": 13,
     "metadata": {},
     "output_type": "execute_result"
    }
   ],
   "source": [
    "df.head()"
   ]
  },
  {
   "cell_type": "markdown",
   "id": "6ce16b68",
   "metadata": {},
   "source": [
    "charge_amount is an ordinal attribute where 0 is the lowest amount and 10 is the highest \n",
    "even though this is categorical but there is clear order in values so chose not to use one hot-code."
   ]
  },
  {
   "cell_type": "code",
   "execution_count": 14,
   "id": "2148f1c5",
   "metadata": {},
   "outputs": [
    {
     "data": {
      "text/plain": [
       "array([ 0,  1,  2,  3,  8,  4,  9,  7,  5, 10,  6], dtype=int64)"
      ]
     },
     "execution_count": 14,
     "metadata": {},
     "output_type": "execute_result"
    }
   ],
   "source": [
    "df.CHARGE_AMOUNT.unique()"
   ]
  },
  {
   "cell_type": "code",
   "execution_count": 15,
   "id": "914e3233",
   "metadata": {},
   "outputs": [
    {
     "data": {
      "text/plain": [
       "(3150, 12)"
      ]
     },
     "execution_count": 15,
     "metadata": {},
     "output_type": "execute_result"
    }
   ],
   "source": [
    "df.shape"
   ]
  },
  {
   "cell_type": "markdown",
   "id": "a81de911",
   "metadata": {},
   "source": [
    "dimensions of dataframe is 3150 rows and 12 columns"
   ]
  },
  {
   "cell_type": "markdown",
   "id": "4aacb6e1",
   "metadata": {
    "tags": []
   },
   "source": [
    "## Split and Normalize Data\n",
    "\n",
    "we can see values of seconds_of_use is lot bigger than the values of rest of the columns so the models can be sensitive to differences in scale; therefore, we should begin by eliminating any differences in scale between the predictors/features. To accomplish this, we will standardize the values of each variable.\n",
    "\n",
    "We will use the popular sklearn library's 'standard scaler' to accomplish this. This library contains many of the common functions we require when conducting analytics. The standard scaler function will standardize our variables. To achieve this, we will first need to train the scaler on the training data and then apply this trained scaler to standardize both the training and validation sets. \n",
    "\n",
    "In the dataset we have total of 3150 rows, so will do 70-30 split into test and train."
   ]
  },
  {
   "cell_type": "code",
   "execution_count": 17,
   "id": "78bb2e0f",
   "metadata": {},
   "outputs": [],
   "source": [
    "features = df.drop(columns=['CHURN'])\n",
    "target = df['CHURN']\n",
    "\n",
    "# split the data into validation and training set\n",
    "X_train, X_test, y_train, y_test = train_test_split(features, target, test_size=0.3, random_state=1)\n",
    "\n",
    "# create a standard scaler and fit it to the training set of predictors\n",
    "scaler = preprocessing.StandardScaler()\n",
    "scaler.fit(X_train)\n",
    "\n",
    "# Transform the predictors of training and validation sets\n",
    "X_train = scaler.transform(X_train) \n",
    "X_test = scaler.transform(X_test) "
   ]
  },
  {
   "cell_type": "markdown",
   "id": "2b67df98",
   "metadata": {},
   "source": [
    "creating dataframes for train and test data"
   ]
  },
  {
   "cell_type": "code",
   "execution_count": 18,
   "id": "ab064b57",
   "metadata": {},
   "outputs": [],
   "source": [
    "X_train=list(X_train)\n",
    "y_train=list(y_train)\n",
    "X_test=list(X_test)\n",
    "y_test=list(y_test)\n",
    "\n",
    "\n",
    "# Create DataFrames for the training and test sets\n",
    "df_train = pd.DataFrame(data=X_train, columns=features.columns.tolist())  # Assuming 'features' is a DataFrame with feature names\n",
    "df_train['TARGET'] = y_train # Adding the target column to the training set\n",
    "\n",
    "df_test = pd.DataFrame(data=X_test, columns=features.columns.tolist())  # Assuming 'features' is a DataFrame with feature names\n",
    "df_test['TARGET'] = y_test  # Adding the target column to the test set"
   ]
  },
  {
   "cell_type": "markdown",
   "id": "da79e756",
   "metadata": {},
   "source": [
    "generating csv files from dataframes, to use csv files in predictive modeling notebook."
   ]
  },
  {
   "cell_type": "code",
   "execution_count": 19,
   "id": "da7ca1f5",
   "metadata": {},
   "outputs": [],
   "source": [
    "#train_data_csv\n",
    "df_train.to_csv('./train_data.csv', index=False)\n",
    "#test_data_csv\n",
    "df_test.to_csv('./test_data.csv', index=False)\n"
   ]
  },
  {
   "cell_type": "code",
   "execution_count": null,
   "id": "cd0f02e9",
   "metadata": {},
   "outputs": [],
   "source": []
  }
 ],
 "metadata": {
  "kernelspec": {
   "display_name": "Python 3 (ipykernel)",
   "language": "python",
   "name": "python3"
  },
  "language_info": {
   "codemirror_mode": {
    "name": "ipython",
    "version": 3
   },
   "file_extension": ".py",
   "mimetype": "text/x-python",
   "name": "python",
   "nbconvert_exporter": "python",
   "pygments_lexer": "ipython3",
   "version": "3.11.5"
  }
 },
 "nbformat": 4,
 "nbformat_minor": 5
}

{
 "cells": [
  {
   "cell_type": "markdown",
   "id": "29340871",
   "metadata": {},
   "source": [
    "# Assignment06 - Sandeep Karanam - Predictive Modeling notebook"
   ]
  },
  {
   "cell_type": "code",
   "execution_count": 1,
   "id": "ffbd08cd",
   "metadata": {},
   "outputs": [],
   "source": [
    "import pandas as pd\n",
    "import numpy as np\n",
    "from sklearn.linear_model import LogisticRegression\n",
    "from sklearn.metrics import accuracy_score, precision_score, recall_score, f1_score\n",
    "from sklearn.metrics import confusion_matrix,precision_recall_curve, ConfusionMatrixDisplay, PrecisionRecallDisplay\n",
    "from sklearn.svm import SVC\n",
    "from sklearn.tree import DecisionTreeClassifier\n",
    "from sklearn.model_selection import GridSearchCV, RandomizedSearchCV\n",
    "from matplotlib import pyplot as plt\n",
    "\n",
    "np.random.seed(42)"
   ]
  },
  {
   "cell_type": "code",
   "execution_count": 2,
   "id": "753f0d1b",
   "metadata": {},
   "outputs": [],
   "source": [
    "random_seed = 1\n",
    "np.random.seed(random_seed)\n"
   ]
  },
  {
   "cell_type": "code",
   "execution_count": 3,
   "id": "3e9a4493",
   "metadata": {},
   "outputs": [],
   "source": [
    "%matplotlib widget\n",
    "\n",
    "random_seed = 1\n",
    "np.random.seed(random_seed)\n",
    " "
   ]
  },
  {
   "cell_type": "markdown",
   "id": "4a69d5ba",
   "metadata": {},
   "source": [
    "First we will load the data from train and test CSVs to dataframes"
   ]
  },
  {
   "cell_type": "code",
   "execution_count": 4,
   "id": "f5cc2dc2",
   "metadata": {},
   "outputs": [],
   "source": [
    "df_train=pd.read_csv('C:/Users/sande/Downloads/train_data.csv')\n",
    "df_test=pd.read_csv('C:/Users/sande/Downloads/test_data.csv')"
   ]
  },
  {
   "cell_type": "code",
   "execution_count": 5,
   "id": "dd486b5d",
   "metadata": {},
   "outputs": [
    {
     "data": {
      "text/html": [
       "<div>\n",
       "<style scoped>\n",
       "    .dataframe tbody tr th:only-of-type {\n",
       "        vertical-align: middle;\n",
       "    }\n",
       "\n",
       "    .dataframe tbody tr th {\n",
       "        vertical-align: top;\n",
       "    }\n",
       "\n",
       "    .dataframe thead th {\n",
       "        text-align: right;\n",
       "    }\n",
       "</style>\n",
       "<table border=\"1\" class=\"dataframe\">\n",
       "  <thead>\n",
       "    <tr style=\"text-align: right;\">\n",
       "      <th></th>\n",
       "      <th>CALL_FAILURE</th>\n",
       "      <th>COMPLAINS</th>\n",
       "      <th>SUBSCRIPTION_LENGTH</th>\n",
       "      <th>CHARGE_AMOUNT</th>\n",
       "      <th>SECONDS_OF_USE</th>\n",
       "      <th>FREQUENCY_OF_USE</th>\n",
       "      <th>FREQUENCY_OF_SMS</th>\n",
       "      <th>DISTINCT_CALLED_NUMBERS</th>\n",
       "      <th>TARIFF_PLAN</th>\n",
       "      <th>AGE</th>\n",
       "      <th>STATUS_NON_ACTIVE</th>\n",
       "      <th>TARGET</th>\n",
       "    </tr>\n",
       "  </thead>\n",
       "  <tbody>\n",
       "    <tr>\n",
       "      <th>0</th>\n",
       "      <td>-1.075695</td>\n",
       "      <td>-0.291784</td>\n",
       "      <td>0.518048</td>\n",
       "      <td>-0.633405</td>\n",
       "      <td>-1.060210</td>\n",
       "      <td>-1.209696</td>\n",
       "      <td>-0.651641</td>\n",
       "      <td>-1.357368</td>\n",
       "      <td>-0.29452</td>\n",
       "      <td>-0.675408</td>\n",
       "      <td>1.730481</td>\n",
       "      <td>0</td>\n",
       "    </tr>\n",
       "    <tr>\n",
       "      <th>1</th>\n",
       "      <td>-1.075695</td>\n",
       "      <td>-0.291784</td>\n",
       "      <td>-1.008929</td>\n",
       "      <td>-0.633405</td>\n",
       "      <td>-0.458987</td>\n",
       "      <td>-0.339278</td>\n",
       "      <td>-0.651641</td>\n",
       "      <td>-0.031758</td>\n",
       "      <td>-0.29452</td>\n",
       "      <td>-0.105678</td>\n",
       "      <td>-0.577874</td>\n",
       "      <td>0</td>\n",
       "    </tr>\n",
       "    <tr>\n",
       "      <th>2</th>\n",
       "      <td>-0.526070</td>\n",
       "      <td>-0.291784</td>\n",
       "      <td>0.518048</td>\n",
       "      <td>-0.633405</td>\n",
       "      <td>-0.570626</td>\n",
       "      <td>-0.269644</td>\n",
       "      <td>-0.358207</td>\n",
       "      <td>-0.262299</td>\n",
       "      <td>-0.29452</td>\n",
       "      <td>-0.105678</td>\n",
       "      <td>1.730481</td>\n",
       "      <td>0</td>\n",
       "    </tr>\n",
       "    <tr>\n",
       "      <th>3</th>\n",
       "      <td>0.023555</td>\n",
       "      <td>-0.291784</td>\n",
       "      <td>0.283129</td>\n",
       "      <td>-0.633405</td>\n",
       "      <td>-0.099688</td>\n",
       "      <td>-0.200011</td>\n",
       "      <td>-0.651641</td>\n",
       "      <td>0.371688</td>\n",
       "      <td>-0.29452</td>\n",
       "      <td>-1.814868</td>\n",
       "      <td>-0.577874</td>\n",
       "      <td>0</td>\n",
       "    </tr>\n",
       "    <tr>\n",
       "      <th>4</th>\n",
       "      <td>-1.075695</td>\n",
       "      <td>-0.291784</td>\n",
       "      <td>1.222807</td>\n",
       "      <td>-0.633405</td>\n",
       "      <td>-0.994948</td>\n",
       "      <td>-1.053021</td>\n",
       "      <td>-0.518262</td>\n",
       "      <td>-0.896286</td>\n",
       "      <td>-0.29452</td>\n",
       "      <td>-0.675408</td>\n",
       "      <td>1.730481</td>\n",
       "      <td>0</td>\n",
       "    </tr>\n",
       "    <tr>\n",
       "      <th>5</th>\n",
       "      <td>-0.251257</td>\n",
       "      <td>3.427195</td>\n",
       "      <td>-2.535907</td>\n",
       "      <td>0.714720</td>\n",
       "      <td>-0.690153</td>\n",
       "      <td>-0.826712</td>\n",
       "      <td>-0.607182</td>\n",
       "      <td>-0.838651</td>\n",
       "      <td>-0.29452</td>\n",
       "      <td>-0.105678</td>\n",
       "      <td>-0.577874</td>\n",
       "      <td>1</td>\n",
       "    </tr>\n",
       "    <tr>\n",
       "      <th>6</th>\n",
       "      <td>-1.075695</td>\n",
       "      <td>3.427195</td>\n",
       "      <td>-2.888286</td>\n",
       "      <td>0.040658</td>\n",
       "      <td>-0.749917</td>\n",
       "      <td>-0.878937</td>\n",
       "      <td>-0.429342</td>\n",
       "      <td>-0.838651</td>\n",
       "      <td>-0.29452</td>\n",
       "      <td>-0.105678</td>\n",
       "      <td>-0.577874</td>\n",
       "      <td>1</td>\n",
       "    </tr>\n",
       "    <tr>\n",
       "      <th>7</th>\n",
       "      <td>0.298368</td>\n",
       "      <td>-0.291784</td>\n",
       "      <td>0.518048</td>\n",
       "      <td>0.040658</td>\n",
       "      <td>2.262172</td>\n",
       "      <td>1.697501</td>\n",
       "      <td>-0.589398</td>\n",
       "      <td>1.005675</td>\n",
       "      <td>-0.29452</td>\n",
       "      <td>-0.105678</td>\n",
       "      <td>-0.577874</td>\n",
       "      <td>0</td>\n",
       "    </tr>\n",
       "    <tr>\n",
       "      <th>8</th>\n",
       "      <td>-1.075695</td>\n",
       "      <td>-0.291784</td>\n",
       "      <td>0.518048</td>\n",
       "      <td>-0.633405</td>\n",
       "      <td>-1.060210</td>\n",
       "      <td>-1.209696</td>\n",
       "      <td>-0.651641</td>\n",
       "      <td>-1.357368</td>\n",
       "      <td>-0.29452</td>\n",
       "      <td>-0.675408</td>\n",
       "      <td>1.730481</td>\n",
       "      <td>1</td>\n",
       "    </tr>\n",
       "    <tr>\n",
       "      <th>9</th>\n",
       "      <td>0.710587</td>\n",
       "      <td>-0.291784</td>\n",
       "      <td>-1.243849</td>\n",
       "      <td>2.062845</td>\n",
       "      <td>-0.316032</td>\n",
       "      <td>-0.252236</td>\n",
       "      <td>-0.242611</td>\n",
       "      <td>0.083512</td>\n",
       "      <td>-0.29452</td>\n",
       "      <td>-0.105678</td>\n",
       "      <td>-0.577874</td>\n",
       "      <td>0</td>\n",
       "    </tr>\n",
       "  </tbody>\n",
       "</table>\n",
       "</div>"
      ],
      "text/plain": [
       "   CALL_FAILURE  COMPLAINS  SUBSCRIPTION_LENGTH  CHARGE_AMOUNT  \\\n",
       "0     -1.075695  -0.291784             0.518048      -0.633405   \n",
       "1     -1.075695  -0.291784            -1.008929      -0.633405   \n",
       "2     -0.526070  -0.291784             0.518048      -0.633405   \n",
       "3      0.023555  -0.291784             0.283129      -0.633405   \n",
       "4     -1.075695  -0.291784             1.222807      -0.633405   \n",
       "5     -0.251257   3.427195            -2.535907       0.714720   \n",
       "6     -1.075695   3.427195            -2.888286       0.040658   \n",
       "7      0.298368  -0.291784             0.518048       0.040658   \n",
       "8     -1.075695  -0.291784             0.518048      -0.633405   \n",
       "9      0.710587  -0.291784            -1.243849       2.062845   \n",
       "\n",
       "   SECONDS_OF_USE  FREQUENCY_OF_USE  FREQUENCY_OF_SMS  \\\n",
       "0       -1.060210         -1.209696         -0.651641   \n",
       "1       -0.458987         -0.339278         -0.651641   \n",
       "2       -0.570626         -0.269644         -0.358207   \n",
       "3       -0.099688         -0.200011         -0.651641   \n",
       "4       -0.994948         -1.053021         -0.518262   \n",
       "5       -0.690153         -0.826712         -0.607182   \n",
       "6       -0.749917         -0.878937         -0.429342   \n",
       "7        2.262172          1.697501         -0.589398   \n",
       "8       -1.060210         -1.209696         -0.651641   \n",
       "9       -0.316032         -0.252236         -0.242611   \n",
       "\n",
       "   DISTINCT_CALLED_NUMBERS  TARIFF_PLAN       AGE  STATUS_NON_ACTIVE  TARGET  \n",
       "0                -1.357368     -0.29452 -0.675408           1.730481       0  \n",
       "1                -0.031758     -0.29452 -0.105678          -0.577874       0  \n",
       "2                -0.262299     -0.29452 -0.105678           1.730481       0  \n",
       "3                 0.371688     -0.29452 -1.814868          -0.577874       0  \n",
       "4                -0.896286     -0.29452 -0.675408           1.730481       0  \n",
       "5                -0.838651     -0.29452 -0.105678          -0.577874       1  \n",
       "6                -0.838651     -0.29452 -0.105678          -0.577874       1  \n",
       "7                 1.005675     -0.29452 -0.105678          -0.577874       0  \n",
       "8                -1.357368     -0.29452 -0.675408           1.730481       1  \n",
       "9                 0.083512     -0.29452 -0.105678          -0.577874       0  "
      ]
     },
     "execution_count": 5,
     "metadata": {},
     "output_type": "execute_result"
    }
   ],
   "source": [
    "df_train.head(10)\n",
    "df_test.head(10)"
   ]
  },
  {
   "cell_type": "markdown",
   "id": "1e68f246",
   "metadata": {},
   "source": [
    "will split the dataframe into feature and target"
   ]
  },
  {
   "cell_type": "code",
   "execution_count": 6,
   "id": "c26627eb",
   "metadata": {},
   "outputs": [],
   "source": [
    "X_train=df_train.drop(columns=['TARGET'])\n",
    "y_train=df_train['TARGET']\n",
    "\n",
    "X_test=df_test.drop(columns=['TARGET'])\n",
    "y_test=df_test['TARGET']"
   ]
  },
  {
   "cell_type": "markdown",
   "id": "a66b269b",
   "metadata": {},
   "source": [
    "Now will start with fitting the models to the data will start with LogisticRegression,SVM and then Decision Tree"
   ]
  },
  {
   "cell_type": "markdown",
   "id": "df852997",
   "metadata": {},
   "source": [
    "# Identifying the metric to evaluate performance of models"
   ]
  },
  {
   "cell_type": "markdown",
   "id": "be1b46ab",
   "metadata": {},
   "source": [
    "In the business perspective Business does not want to lose the customers so, business wants to identify customers who are probably gonna leave and make them not leave one way or the other, so business is gonna spend on the customers who are predicted to churn by giving offers or discounts etc., and losing a customer also leads to financial loss. In this False Negatives and False Positives both are gonna cost the business, but False Negatives are more costly as model could not identify potential customers who are gonna churn. I identify Recall as the most important metric here and also F1 score is also a good metric as it is harmonic mean of recall and precision."
   ]
  },
  {
   "cell_type": "markdown",
   "id": "8ee88bbf",
   "metadata": {},
   "source": [
    "# Fit the Logistic Regression"
   ]
  },
  {
   "cell_type": "code",
   "execution_count": 7,
   "id": "f53548e2",
   "metadata": {},
   "outputs": [],
   "source": [
    "# Use LogisticRegression from sklearn.linear_model to create a predictive model. \n",
    "model=LogisticRegression()\n",
    "model.fit(X_train,y_train)\n",
    "\n",
    "y_pred= model.predict(X_test)"
   ]
  },
  {
   "cell_type": "code",
   "execution_count": 8,
   "id": "c644e984",
   "metadata": {},
   "outputs": [
    {
     "data": {
      "text/html": [
       "<div>\n",
       "<style scoped>\n",
       "    .dataframe tbody tr th:only-of-type {\n",
       "        vertical-align: middle;\n",
       "    }\n",
       "\n",
       "    .dataframe tbody tr th {\n",
       "        vertical-align: top;\n",
       "    }\n",
       "\n",
       "    .dataframe thead th {\n",
       "        text-align: right;\n",
       "    }\n",
       "</style>\n",
       "<table border=\"1\" class=\"dataframe\">\n",
       "  <thead>\n",
       "    <tr style=\"text-align: right;\">\n",
       "      <th></th>\n",
       "      <th>actual</th>\n",
       "      <th>predicted</th>\n",
       "    </tr>\n",
       "  </thead>\n",
       "  <tbody>\n",
       "    <tr>\n",
       "      <th>0</th>\n",
       "      <td>0</td>\n",
       "      <td>0</td>\n",
       "    </tr>\n",
       "    <tr>\n",
       "      <th>1</th>\n",
       "      <td>0</td>\n",
       "      <td>0</td>\n",
       "    </tr>\n",
       "    <tr>\n",
       "      <th>2</th>\n",
       "      <td>0</td>\n",
       "      <td>0</td>\n",
       "    </tr>\n",
       "    <tr>\n",
       "      <th>3</th>\n",
       "      <td>0</td>\n",
       "      <td>0</td>\n",
       "    </tr>\n",
       "    <tr>\n",
       "      <th>4</th>\n",
       "      <td>0</td>\n",
       "      <td>0</td>\n",
       "    </tr>\n",
       "    <tr>\n",
       "      <th>5</th>\n",
       "      <td>1</td>\n",
       "      <td>1</td>\n",
       "    </tr>\n",
       "    <tr>\n",
       "      <th>6</th>\n",
       "      <td>1</td>\n",
       "      <td>1</td>\n",
       "    </tr>\n",
       "    <tr>\n",
       "      <th>7</th>\n",
       "      <td>0</td>\n",
       "      <td>0</td>\n",
       "    </tr>\n",
       "    <tr>\n",
       "      <th>8</th>\n",
       "      <td>1</td>\n",
       "      <td>0</td>\n",
       "    </tr>\n",
       "    <tr>\n",
       "      <th>9</th>\n",
       "      <td>0</td>\n",
       "      <td>0</td>\n",
       "    </tr>\n",
       "    <tr>\n",
       "      <th>10</th>\n",
       "      <td>0</td>\n",
       "      <td>0</td>\n",
       "    </tr>\n",
       "    <tr>\n",
       "      <th>11</th>\n",
       "      <td>0</td>\n",
       "      <td>0</td>\n",
       "    </tr>\n",
       "    <tr>\n",
       "      <th>12</th>\n",
       "      <td>0</td>\n",
       "      <td>0</td>\n",
       "    </tr>\n",
       "    <tr>\n",
       "      <th>13</th>\n",
       "      <td>0</td>\n",
       "      <td>0</td>\n",
       "    </tr>\n",
       "    <tr>\n",
       "      <th>14</th>\n",
       "      <td>1</td>\n",
       "      <td>0</td>\n",
       "    </tr>\n",
       "    <tr>\n",
       "      <th>15</th>\n",
       "      <td>0</td>\n",
       "      <td>0</td>\n",
       "    </tr>\n",
       "    <tr>\n",
       "      <th>16</th>\n",
       "      <td>0</td>\n",
       "      <td>0</td>\n",
       "    </tr>\n",
       "    <tr>\n",
       "      <th>17</th>\n",
       "      <td>0</td>\n",
       "      <td>0</td>\n",
       "    </tr>\n",
       "    <tr>\n",
       "      <th>18</th>\n",
       "      <td>1</td>\n",
       "      <td>0</td>\n",
       "    </tr>\n",
       "    <tr>\n",
       "      <th>19</th>\n",
       "      <td>1</td>\n",
       "      <td>1</td>\n",
       "    </tr>\n",
       "  </tbody>\n",
       "</table>\n",
       "</div>"
      ],
      "text/plain": [
       "    actual  predicted\n",
       "0        0          0\n",
       "1        0          0\n",
       "2        0          0\n",
       "3        0          0\n",
       "4        0          0\n",
       "5        1          1\n",
       "6        1          1\n",
       "7        0          0\n",
       "8        1          0\n",
       "9        0          0\n",
       "10       0          0\n",
       "11       0          0\n",
       "12       0          0\n",
       "13       0          0\n",
       "14       1          0\n",
       "15       0          0\n",
       "16       0          0\n",
       "17       0          0\n",
       "18       1          0\n",
       "19       1          1"
      ]
     },
     "execution_count": 8,
     "metadata": {},
     "output_type": "execute_result"
    }
   ],
   "source": [
    "results = pd.DataFrame()\n",
    "results['actual'] = y_test\n",
    "results['predicted'] = y_pred\n",
    "results.head(20)"
   ]
  },
  {
   "cell_type": "markdown",
   "id": "9f6eaa55",
   "metadata": {
    "id": "hnRpvv2znmO6"
   },
   "source": [
    "## Measure performance of model using confusion matrix"
   ]
  },
  {
   "cell_type": "code",
   "execution_count": 9,
   "id": "b434894c",
   "metadata": {
    "scrolled": true
   },
   "outputs": [
    {
     "data": {
      "application/vnd.jupyter.widget-view+json": {
       "model_id": "41ecaa871d464255a5833871dd2b503a",
       "version_major": 2,
       "version_minor": 0
      },
      "image/png": "[encoded data removed]",
      "text/html": [
       "\n",
       "            <div style=\"display: inline-block;\">\n",
       "                <div class=\"jupyter-widgets widget-label\" style=\"text-align: center;\">\n",
       "                    Figure\n",
       "                </div>\n",
       "                <img src='data:image/png;base64,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' width=800.0/>\n",
       "            </div>\n",
       "        "
      ],
      "text/plain": [
       "Canvas(toolbar=Toolbar(toolitems=[('Home', 'Reset original view', 'home', 'home'), ('Back', 'Back to previous …"
      ]
     },
     "metadata": {},
     "output_type": "display_data"
    }
   ],
   "source": [
    "# display the confusion matrix\n",
    "cm = confusion_matrix(results['actual'], results['predicted'])\n",
    "\n",
    "fig, ax = plt.subplots(figsize=(8, 6))\n",
    "\n",
    "ConfusionMatrixDisplay.from_predictions(\n",
    "    results['actual'], results['predicted'], display_labels=model.classes_, ax=ax, colorbar=False, cmap=plt.cm.Blues\n",
    ")\n",
    "\n",
    "plt.show()"
   ]
  },
  {
   "cell_type": "code",
   "execution_count": 10,
   "id": "c96ca05c",
   "metadata": {},
   "outputs": [
    {
     "data": {
      "text/plain": [
       "array([[784,  26],\n",
       "       [ 77,  58]], dtype=int64)"
      ]
     },
     "execution_count": 10,
     "metadata": {},
     "output_type": "execute_result"
    }
   ],
   "source": [
    "cm"
   ]
  },
  {
   "cell_type": "code",
   "execution_count": 11,
   "id": "17540d8d",
   "metadata": {
    "id": "5ulijKuInH4J"
   },
   "outputs": [],
   "source": [
    "TP = cm[1, 1] # True Positives\n",
    "TN = cm[0, 0] # True Negatives\n",
    "FP = cm[0, 1] # False Positives\n",
    "FN = cm[1, 0] # False Negatives"
   ]
  },
  {
   "cell_type": "markdown",
   "id": "57e9ab1c",
   "metadata": {
    "id": "f8RSxiWGnJj2"
   },
   "source": [
    "### Accuracy:\n",
    "\n",
    "How often was the model correct?"
   ]
  },
  {
   "cell_type": "code",
   "execution_count": 12,
   "id": "c165a04c",
   "metadata": {
    "colab": {
     "base_uri": "https://localhost:8080/",
     "height": 34
    },
    "id": "FfO1nisznIiI",
    "outputId": "878d0f2f-3f3a-41c7-9b9e-d0f428fb950e"
   },
   "outputs": [
    {
     "name": "stdout",
     "output_type": "stream",
     "text": [
      "0.8910\n"
     ]
    }
   ],
   "source": [
    "classification_accuracy = (TP + TN) / (TP + TN + FP + FN)\n",
    "print(f\"{classification_accuracy:.4f}\")"
   ]
  },
  {
   "cell_type": "markdown",
   "id": "7f75db14",
   "metadata": {
    "id": "qZGZKw3bnMye"
   },
   "source": [
    "### Misclassification Rate:\n",
    "\n",
    "How often was the model incorrect?"
   ]
  },
  {
   "cell_type": "code",
   "execution_count": 13,
   "id": "3afcb2f9",
   "metadata": {
    "colab": {
     "base_uri": "https://localhost:8080/",
     "height": 51
    },
    "id": "1YLQMVIVnMC_",
    "outputId": "8bfe3f91-530d-421f-aeda-5a53febf6635"
   },
   "outputs": [
    {
     "name": "stdout",
     "output_type": "stream",
     "text": [
      "0.1090\n"
     ]
    }
   ],
   "source": [
    "classification_error = (FP + FN) / (TP + TN + FP + FN)\n",
    "# this is the same as ...\n",
    "# classification_error = 1-classification_accuracy\n",
    "\n",
    "print(f\"{classification_error:.4f}\")"
   ]
  },
  {
   "cell_type": "markdown",
   "id": "0c6199b3",
   "metadata": {
    "id": "SzKkssIbnPXd"
   },
   "source": [
    "### Precision: \n",
    "\n",
    "When a positive value is predicted, how often is the prediction correct?\n",
    "\n",
    "In other wordes: How \"precise\" is the classifier when predicting positive instances?"
   ]
  },
  {
   "cell_type": "code",
   "execution_count": 14,
   "id": "a97d9ddb",
   "metadata": {
    "colab": {
     "base_uri": "https://localhost:8080/",
     "height": 34
    },
    "id": "DE2o7HIxnP7F",
    "outputId": "cc8b3fe4-0e6e-428a-9907-e46e8e7d007e"
   },
   "outputs": [
    {
     "name": "stdout",
     "output_type": "stream",
     "text": [
      "0.6905\n"
     ]
    }
   ],
   "source": [
    "precision = TP / (TP + FP)\n",
    "print(f\"{precision:.4f}\")"
   ]
  },
  {
   "cell_type": "markdown",
   "id": "964c6a61",
   "metadata": {
    "id": "tjSqr2r2nQPm"
   },
   "source": [
    "### Recall (aka sensititivy):\n",
    "\n",
    "Ability of a classification model to identify all relevant instances. \n",
    "Also referred to as Sensitivity, Probability of Detection, True Positive Rate\n"
   ]
  },
  {
   "cell_type": "code",
   "execution_count": 15,
   "id": "899b75b1",
   "metadata": {
    "colab": {
     "base_uri": "https://localhost:8080/",
     "height": 34
    },
    "id": "DT7oM6VtoVuq",
    "outputId": "974479f7-52d7-4550-a4a3-d3556fe03f81"
   },
   "outputs": [
    {
     "name": "stdout",
     "output_type": "stream",
     "text": [
      "0.4296\n"
     ]
    }
   ],
   "source": [
    "recall = TP / (TP + FN)\n",
    "print(f\"{recall:.4f}\")"
   ]
  },
  {
   "cell_type": "markdown",
   "id": "e4bc8a5e",
   "metadata": {
    "id": "hK9rHhz8nPk8"
   },
   "source": [
    "### F1 Score\n",
    "\n",
    "This is a measure that takes the harmonic mean of precision and recall."
   ]
  },
  {
   "cell_type": "code",
   "execution_count": 16,
   "id": "48e0e232",
   "metadata": {
    "colab": {
     "base_uri": "https://localhost:8080/",
     "height": 34
    },
    "id": "cXVb-Q59ox_k",
    "outputId": "ee546904-3955-492b-b0aa-b13cf06aacf4"
   },
   "outputs": [
    {
     "name": "stdout",
     "output_type": "stream",
     "text": [
      "0.5297\n"
     ]
    }
   ],
   "source": [
    "f1_Score = (2 * precision * recall) / (precision + recall)\n",
    "print(f\"{f1_Score:.4f}\")"
   ]
  },
  {
   "cell_type": "markdown",
   "id": "9be8ba32",
   "metadata": {},
   "source": [
    "Recall is 0.4296 and F1 Score is 0.5297 for the logistic regression model, which is not the optimal performance business expects. High recall is needed for business but the recall is poor and F1 score is also poor. in the precision recall curve area under the curve is also less. this model is not performing that good with the data. we will compare this performance with other models. "
   ]
  },
  {
   "cell_type": "markdown",
   "id": "e5acce8e",
   "metadata": {},
   "source": [
    "# Fit the SVM model"
   ]
  },
  {
   "cell_type": "markdown",
   "id": "5bc8afbe",
   "metadata": {},
   "source": [
    " we will try to fit both linear and non linear models and try to compare the performance, will start with linear kernel first"
   ]
  },
  {
   "cell_type": "markdown",
   "id": "1d1549c8",
   "metadata": {},
   "source": [
    "### Using Linear Kernel"
   ]
  },
  {
   "cell_type": "code",
   "execution_count": 17,
   "id": "e015d198",
   "metadata": {},
   "outputs": [],
   "source": [
    "svc_linear=SVC(kernel='linear')\n",
    "#train the model\n",
    "svc_linear.fit(X_train,y_train)\n",
    "#predictions\n",
    "y_pred_linear=svc_linear.predict(X_test)"
   ]
  },
  {
   "cell_type": "markdown",
   "id": "b3243abd",
   "metadata": {},
   "source": [
    "### What would the expected returns from using our model?"
   ]
  },
  {
   "cell_type": "markdown",
   "id": "bbc9cff0",
   "metadata": {},
   "source": [
    "Let's look at the confusion matrix of the performance of the model on the test data."
   ]
  },
  {
   "cell_type": "code",
   "execution_count": 18,
   "id": "546c1ae8",
   "metadata": {},
   "outputs": [
    {
     "data": {
      "text/html": [
       "<div>\n",
       "<style scoped>\n",
       "    .dataframe tbody tr th:only-of-type {\n",
       "        vertical-align: middle;\n",
       "    }\n",
       "\n",
       "    .dataframe tbody tr th {\n",
       "        vertical-align: top;\n",
       "    }\n",
       "\n",
       "    .dataframe thead th {\n",
       "        text-align: right;\n",
       "    }\n",
       "</style>\n",
       "<table border=\"1\" class=\"dataframe\">\n",
       "  <thead>\n",
       "    <tr style=\"text-align: right;\">\n",
       "      <th></th>\n",
       "      <th>actual</th>\n",
       "      <th>predicted</th>\n",
       "    </tr>\n",
       "  </thead>\n",
       "  <tbody>\n",
       "    <tr>\n",
       "      <th>0</th>\n",
       "      <td>0</td>\n",
       "      <td>0</td>\n",
       "    </tr>\n",
       "    <tr>\n",
       "      <th>1</th>\n",
       "      <td>0</td>\n",
       "      <td>0</td>\n",
       "    </tr>\n",
       "    <tr>\n",
       "      <th>2</th>\n",
       "      <td>0</td>\n",
       "      <td>0</td>\n",
       "    </tr>\n",
       "    <tr>\n",
       "      <th>3</th>\n",
       "      <td>0</td>\n",
       "      <td>0</td>\n",
       "    </tr>\n",
       "    <tr>\n",
       "      <th>4</th>\n",
       "      <td>0</td>\n",
       "      <td>0</td>\n",
       "    </tr>\n",
       "    <tr>\n",
       "      <th>5</th>\n",
       "      <td>1</td>\n",
       "      <td>1</td>\n",
       "    </tr>\n",
       "    <tr>\n",
       "      <th>6</th>\n",
       "      <td>1</td>\n",
       "      <td>1</td>\n",
       "    </tr>\n",
       "    <tr>\n",
       "      <th>7</th>\n",
       "      <td>0</td>\n",
       "      <td>0</td>\n",
       "    </tr>\n",
       "    <tr>\n",
       "      <th>8</th>\n",
       "      <td>1</td>\n",
       "      <td>0</td>\n",
       "    </tr>\n",
       "    <tr>\n",
       "      <th>9</th>\n",
       "      <td>0</td>\n",
       "      <td>0</td>\n",
       "    </tr>\n",
       "    <tr>\n",
       "      <th>10</th>\n",
       "      <td>0</td>\n",
       "      <td>0</td>\n",
       "    </tr>\n",
       "    <tr>\n",
       "      <th>11</th>\n",
       "      <td>0</td>\n",
       "      <td>0</td>\n",
       "    </tr>\n",
       "    <tr>\n",
       "      <th>12</th>\n",
       "      <td>0</td>\n",
       "      <td>0</td>\n",
       "    </tr>\n",
       "    <tr>\n",
       "      <th>13</th>\n",
       "      <td>0</td>\n",
       "      <td>0</td>\n",
       "    </tr>\n",
       "    <tr>\n",
       "      <th>14</th>\n",
       "      <td>1</td>\n",
       "      <td>0</td>\n",
       "    </tr>\n",
       "    <tr>\n",
       "      <th>15</th>\n",
       "      <td>0</td>\n",
       "      <td>0</td>\n",
       "    </tr>\n",
       "    <tr>\n",
       "      <th>16</th>\n",
       "      <td>0</td>\n",
       "      <td>0</td>\n",
       "    </tr>\n",
       "    <tr>\n",
       "      <th>17</th>\n",
       "      <td>0</td>\n",
       "      <td>0</td>\n",
       "    </tr>\n",
       "    <tr>\n",
       "      <th>18</th>\n",
       "      <td>1</td>\n",
       "      <td>0</td>\n",
       "    </tr>\n",
       "    <tr>\n",
       "      <th>19</th>\n",
       "      <td>1</td>\n",
       "      <td>1</td>\n",
       "    </tr>\n",
       "  </tbody>\n",
       "</table>\n",
       "</div>"
      ],
      "text/plain": [
       "    actual  predicted\n",
       "0        0          0\n",
       "1        0          0\n",
       "2        0          0\n",
       "3        0          0\n",
       "4        0          0\n",
       "5        1          1\n",
       "6        1          1\n",
       "7        0          0\n",
       "8        1          0\n",
       "9        0          0\n",
       "10       0          0\n",
       "11       0          0\n",
       "12       0          0\n",
       "13       0          0\n",
       "14       1          0\n",
       "15       0          0\n",
       "16       0          0\n",
       "17       0          0\n",
       "18       1          0\n",
       "19       1          1"
      ]
     },
     "execution_count": 18,
     "metadata": {},
     "output_type": "execute_result"
    }
   ],
   "source": [
    "results = pd.DataFrame()\n",
    "results['actual'] = y_test\n",
    "results['predicted'] = y_pred_linear\n",
    "results.head(20)"
   ]
  },
  {
   "cell_type": "markdown",
   "id": "212bea69",
   "metadata": {
    "id": "hnRpvv2znmO6"
   },
   "source": [
    "## Measure performance of model using confusion matrix"
   ]
  },
  {
   "cell_type": "code",
   "execution_count": 19,
   "id": "97862f9b",
   "metadata": {
    "scrolled": true
   },
   "outputs": [
    {
     "data": {
      "application/vnd.jupyter.widget-view+json": {
       "model_id": "a81a932e9ed24ec6866b80f597be2c77",
       "version_major": 2,
       "version_minor": 0
      },
      "image/png": "[encoded data removed]",
      "text/html": [
       "\n",
       "            <div style=\"display: inline-block;\">\n",
       "                <div class=\"jupyter-widgets widget-label\" style=\"text-align: center;\">\n",
       "                    Figure\n",
       "                </div>\n",
       "                <img src='data:image/png;base64,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' width=800.0/>\n",
       "            </div>\n",
       "        "
      ],
      "text/plain": [
       "Canvas(toolbar=Toolbar(toolitems=[('Home', 'Reset original view', 'home', 'home'), ('Back', 'Back to previous …"
      ]
     },
     "metadata": {},
     "output_type": "display_data"
    }
   ],
   "source": [
    "# display the confusion matrix\n",
    "conf_matrix_svc_linear = confusion_matrix(results['actual'], results['predicted'])\n",
    "\n",
    "fig, ax = plt.subplots(figsize=(8, 6))\n",
    "\n",
    "ConfusionMatrixDisplay.from_predictions(\n",
    "    results['actual'], results['predicted'], display_labels=model.classes_, ax=ax, colorbar=False, cmap=plt.cm.Blues\n",
    ")\n",
    "\n",
    "plt.show()"
   ]
  },
  {
   "cell_type": "code",
   "execution_count": 20,
   "id": "05f0a390",
   "metadata": {},
   "outputs": [
    {
     "data": {
      "text/plain": [
       "array([[800,  10],\n",
       "       [ 81,  54]], dtype=int64)"
      ]
     },
     "execution_count": 20,
     "metadata": {},
     "output_type": "execute_result"
    }
   ],
   "source": [
    "conf_matrix_svc_linear"
   ]
  },
  {
   "cell_type": "code",
   "execution_count": 21,
   "id": "a77cf414",
   "metadata": {
    "id": "5ulijKuInH4J"
   },
   "outputs": [],
   "source": [
    "TP = conf_matrix_svc_linear[1, 1] # True Positives\n",
    "TN = conf_matrix_svc_linear[0, 0] # True Negatives\n",
    "FP = conf_matrix_svc_linear[0, 1] # False Positives\n",
    "FN = conf_matrix_svc_linear[1, 0] # False Negatives"
   ]
  },
  {
   "cell_type": "markdown",
   "id": "de599ce5",
   "metadata": {
    "id": "f8RSxiWGnJj2"
   },
   "source": [
    "### Accuracy:\n",
    "\n",
    "How often was the model correct?"
   ]
  },
  {
   "cell_type": "code",
   "execution_count": 22,
   "id": "9cedd84f",
   "metadata": {
    "colab": {
     "base_uri": "https://localhost:8080/",
     "height": 34
    },
    "id": "FfO1nisznIiI",
    "outputId": "878d0f2f-3f3a-41c7-9b9e-d0f428fb950e"
   },
   "outputs": [
    {
     "name": "stdout",
     "output_type": "stream",
     "text": [
      "0.9037\n"
     ]
    }
   ],
   "source": [
    "classification_accuracy = (TP + TN) / (TP + TN + FP + FN)\n",
    "print(f\"{classification_accuracy:.4f}\")"
   ]
  },
  {
   "cell_type": "markdown",
   "id": "3db1ef2f",
   "metadata": {
    "id": "qZGZKw3bnMye"
   },
   "source": [
    "### Misclassification Rate:\n",
    "\n",
    "How often was the model incorrect?"
   ]
  },
  {
   "cell_type": "code",
   "execution_count": 23,
   "id": "205e3aaf",
   "metadata": {
    "colab": {
     "base_uri": "https://localhost:8080/",
     "height": 51
    },
    "id": "1YLQMVIVnMC_",
    "outputId": "8bfe3f91-530d-421f-aeda-5a53febf6635"
   },
   "outputs": [
    {
     "name": "stdout",
     "output_type": "stream",
     "text": [
      "0.0963\n"
     ]
    }
   ],
   "source": [
    "classification_error = (FP + FN) / (TP + TN + FP + FN)\n",
    "# this is the same as ...\n",
    "# classification_error = 1-classification_accuracy\n",
    "\n",
    "print(f\"{classification_error:.4f}\")"
   ]
  },
  {
   "cell_type": "markdown",
   "id": "073f758e",
   "metadata": {
    "id": "SzKkssIbnPXd"
   },
   "source": [
    "### Precision: \n",
    "\n",
    "When a positive value is predicted, how often is the prediction correct?\n",
    "\n",
    "In other wordes: How \"precise\" is the classifier when predicting positive instances?"
   ]
  },
  {
   "cell_type": "code",
   "execution_count": 24,
   "id": "9f96a39e",
   "metadata": {
    "colab": {
     "base_uri": "https://localhost:8080/",
     "height": 34
    },
    "id": "DE2o7HIxnP7F",
    "outputId": "cc8b3fe4-0e6e-428a-9907-e46e8e7d007e"
   },
   "outputs": [
    {
     "name": "stdout",
     "output_type": "stream",
     "text": [
      "0.8438\n"
     ]
    }
   ],
   "source": [
    "precision = TP / (TP + FP)\n",
    "print(f\"{precision:.4f}\")"
   ]
  },
  {
   "cell_type": "markdown",
   "id": "0bc56aab",
   "metadata": {
    "id": "tjSqr2r2nQPm"
   },
   "source": [
    "### Recall (aka sensititivy):\n",
    "\n",
    "Ability of a classification model to identify all relevant instances. \n",
    "Also referred to as Sensitivity, Probability of Detection, True Positive Rate\n"
   ]
  },
  {
   "cell_type": "code",
   "execution_count": 25,
   "id": "a2afbdbd",
   "metadata": {
    "colab": {
     "base_uri": "https://localhost:8080/",
     "height": 34
    },
    "id": "DT7oM6VtoVuq",
    "outputId": "974479f7-52d7-4550-a4a3-d3556fe03f81"
   },
   "outputs": [
    {
     "name": "stdout",
     "output_type": "stream",
     "text": [
      "0.4000\n"
     ]
    }
   ],
   "source": [
    "recall = TP / (TP + FN)\n",
    "print(f\"{recall:.4f}\")"
   ]
  },
  {
   "cell_type": "markdown",
   "id": "2b988b3a",
   "metadata": {
    "id": "hK9rHhz8nPk8"
   },
   "source": [
    "### F1 Score\n",
    "\n",
    "This is a measure that takes the harmonic mean of precision and recall."
   ]
  },
  {
   "cell_type": "code",
   "execution_count": 26,
   "id": "3a442da5",
   "metadata": {
    "colab": {
     "base_uri": "https://localhost:8080/",
     "height": 34
    },
    "id": "cXVb-Q59ox_k",
    "outputId": "ee546904-3955-492b-b0aa-b13cf06aacf4"
   },
   "outputs": [
    {
     "name": "stdout",
     "output_type": "stream",
     "text": [
      "0.5427\n"
     ]
    }
   ],
   "source": [
    "f1_Score = (2 * precision * recall) / (precision + recall)\n",
    "print(f\"{f1_Score:.4f}\")"
   ]
  },
  {
   "cell_type": "code",
   "execution_count": 27,
   "id": "d920bb61",
   "metadata": {},
   "outputs": [
    {
     "data": {
      "text/plain": [
       "array([[800,  10],\n",
       "       [ 81,  54]], dtype=int64)"
      ]
     },
     "execution_count": 27,
     "metadata": {},
     "output_type": "execute_result"
    }
   ],
   "source": [
    "conf_matrix_svc_linear "
   ]
  },
  {
   "cell_type": "markdown",
   "id": "ff576add",
   "metadata": {},
   "source": [
    "Recall is 0.400 and F1 score is 0.5427 values are quite similar to what we have seen for logistic model. \n",
    "this performance is also considered poor and business would not like it. We need model to have high recall. we will try to fit non linear and compare the performances."
   ]
  },
  {
   "cell_type": "markdown",
   "id": "6879be30",
   "metadata": {},
   "source": [
    "### Using Non-Linear Kernel"
   ]
  },
  {
   "cell_type": "code",
   "execution_count": 28,
   "id": "38137691",
   "metadata": {},
   "outputs": [],
   "source": [
    "svc_rbf=SVC(kernel='rbf')\n",
    "#train the model\n",
    "svc_rbf.fit(X_train,y_train)\n",
    "#predictions\n",
    "y_pred_rbf=svc_rbf.predict(X_test)"
   ]
  },
  {
   "cell_type": "markdown",
   "id": "eb01cb0f",
   "metadata": {},
   "source": [
    "### What would the expected returns from using our model?"
   ]
  },
  {
   "cell_type": "markdown",
   "id": "3d5e9716",
   "metadata": {},
   "source": [
    "Let's look at the confusion matrix of the performance of the model on the test data."
   ]
  },
  {
   "cell_type": "code",
   "execution_count": 29,
   "id": "e87bb1bd",
   "metadata": {},
   "outputs": [
    {
     "data": {
      "text/html": [
       "<div>\n",
       "<style scoped>\n",
       "    .dataframe tbody tr th:only-of-type {\n",
       "        vertical-align: middle;\n",
       "    }\n",
       "\n",
       "    .dataframe tbody tr th {\n",
       "        vertical-align: top;\n",
       "    }\n",
       "\n",
       "    .dataframe thead th {\n",
       "        text-align: right;\n",
       "    }\n",
       "</style>\n",
       "<table border=\"1\" class=\"dataframe\">\n",
       "  <thead>\n",
       "    <tr style=\"text-align: right;\">\n",
       "      <th></th>\n",
       "      <th>actual</th>\n",
       "      <th>predicted</th>\n",
       "    </tr>\n",
       "  </thead>\n",
       "  <tbody>\n",
       "    <tr>\n",
       "      <th>0</th>\n",
       "      <td>0</td>\n",
       "      <td>0</td>\n",
       "    </tr>\n",
       "    <tr>\n",
       "      <th>1</th>\n",
       "      <td>0</td>\n",
       "      <td>0</td>\n",
       "    </tr>\n",
       "    <tr>\n",
       "      <th>2</th>\n",
       "      <td>0</td>\n",
       "      <td>0</td>\n",
       "    </tr>\n",
       "    <tr>\n",
       "      <th>3</th>\n",
       "      <td>0</td>\n",
       "      <td>0</td>\n",
       "    </tr>\n",
       "    <tr>\n",
       "      <th>4</th>\n",
       "      <td>0</td>\n",
       "      <td>0</td>\n",
       "    </tr>\n",
       "    <tr>\n",
       "      <th>5</th>\n",
       "      <td>1</td>\n",
       "      <td>1</td>\n",
       "    </tr>\n",
       "    <tr>\n",
       "      <th>6</th>\n",
       "      <td>1</td>\n",
       "      <td>1</td>\n",
       "    </tr>\n",
       "    <tr>\n",
       "      <th>7</th>\n",
       "      <td>0</td>\n",
       "      <td>0</td>\n",
       "    </tr>\n",
       "    <tr>\n",
       "      <th>8</th>\n",
       "      <td>1</td>\n",
       "      <td>0</td>\n",
       "    </tr>\n",
       "    <tr>\n",
       "      <th>9</th>\n",
       "      <td>0</td>\n",
       "      <td>0</td>\n",
       "    </tr>\n",
       "    <tr>\n",
       "      <th>10</th>\n",
       "      <td>0</td>\n",
       "      <td>0</td>\n",
       "    </tr>\n",
       "    <tr>\n",
       "      <th>11</th>\n",
       "      <td>0</td>\n",
       "      <td>0</td>\n",
       "    </tr>\n",
       "    <tr>\n",
       "      <th>12</th>\n",
       "      <td>0</td>\n",
       "      <td>0</td>\n",
       "    </tr>\n",
       "    <tr>\n",
       "      <th>13</th>\n",
       "      <td>0</td>\n",
       "      <td>0</td>\n",
       "    </tr>\n",
       "    <tr>\n",
       "      <th>14</th>\n",
       "      <td>1</td>\n",
       "      <td>1</td>\n",
       "    </tr>\n",
       "    <tr>\n",
       "      <th>15</th>\n",
       "      <td>0</td>\n",
       "      <td>0</td>\n",
       "    </tr>\n",
       "    <tr>\n",
       "      <th>16</th>\n",
       "      <td>0</td>\n",
       "      <td>0</td>\n",
       "    </tr>\n",
       "    <tr>\n",
       "      <th>17</th>\n",
       "      <td>0</td>\n",
       "      <td>0</td>\n",
       "    </tr>\n",
       "    <tr>\n",
       "      <th>18</th>\n",
       "      <td>1</td>\n",
       "      <td>1</td>\n",
       "    </tr>\n",
       "    <tr>\n",
       "      <th>19</th>\n",
       "      <td>1</td>\n",
       "      <td>1</td>\n",
       "    </tr>\n",
       "  </tbody>\n",
       "</table>\n",
       "</div>"
      ],
      "text/plain": [
       "    actual  predicted\n",
       "0        0          0\n",
       "1        0          0\n",
       "2        0          0\n",
       "3        0          0\n",
       "4        0          0\n",
       "5        1          1\n",
       "6        1          1\n",
       "7        0          0\n",
       "8        1          0\n",
       "9        0          0\n",
       "10       0          0\n",
       "11       0          0\n",
       "12       0          0\n",
       "13       0          0\n",
       "14       1          1\n",
       "15       0          0\n",
       "16       0          0\n",
       "17       0          0\n",
       "18       1          1\n",
       "19       1          1"
      ]
     },
     "execution_count": 29,
     "metadata": {},
     "output_type": "execute_result"
    }
   ],
   "source": [
    "results = pd.DataFrame()\n",
    "results['actual'] = y_test\n",
    "results['predicted'] = y_pred_rbf\n",
    "results.head(20)"
   ]
  },
  {
   "cell_type": "markdown",
   "id": "fb04123b",
   "metadata": {
    "id": "hnRpvv2znmO6"
   },
   "source": [
    "## Measure performance of model using confusion matrix"
   ]
  },
  {
   "cell_type": "code",
   "execution_count": 30,
   "id": "a7b2da9a",
   "metadata": {
    "scrolled": true
   },
   "outputs": [
    {
     "data": {
      "application/vnd.jupyter.widget-view+json": {
       "model_id": "f459bd750ed04781978160ad3346e1a5",
       "version_major": 2,
       "version_minor": 0
      },
      "image/png": "[encoded data removed]",
      "text/html": [
       "\n",
       "            <div style=\"display: inline-block;\">\n",
       "                <div class=\"jupyter-widgets widget-label\" style=\"text-align: center;\">\n",
       "                    Figure\n",
       "                </div>\n",
       "                <img src='data:image/png;base64,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' width=800.0/>\n",
       "            </div>\n",
       "        "
      ],
      "text/plain": [
       "Canvas(toolbar=Toolbar(toolitems=[('Home', 'Reset original view', 'home', 'home'), ('Back', 'Back to previous …"
      ]
     },
     "metadata": {},
     "output_type": "display_data"
    }
   ],
   "source": [
    "# display the confusion matrix\n",
    "conf_matrix_svc_rbf = confusion_matrix(results['actual'], results['predicted'])\n",
    "\n",
    "fig, ax = plt.subplots(figsize=(8, 6))\n",
    "\n",
    "ConfusionMatrixDisplay.from_predictions(\n",
    "    results['actual'], results['predicted'], display_labels=model.classes_, ax=ax, colorbar=False, cmap=plt.cm.Blues\n",
    ")\n",
    "\n",
    "plt.show()"
   ]
  },
  {
   "cell_type": "code",
   "execution_count": 31,
   "id": "ccc0ed1b",
   "metadata": {},
   "outputs": [
    {
     "data": {
      "text/plain": [
       "array([[801,   9],\n",
       "       [ 60,  75]], dtype=int64)"
      ]
     },
     "execution_count": 31,
     "metadata": {},
     "output_type": "execute_result"
    }
   ],
   "source": [
    "conf_matrix_svc_rbf"
   ]
  },
  {
   "cell_type": "code",
   "execution_count": 32,
   "id": "8fd5c08b",
   "metadata": {
    "id": "5ulijKuInH4J"
   },
   "outputs": [],
   "source": [
    "TP = conf_matrix_svc_rbf[1, 1] # True Positives\n",
    "TN = conf_matrix_svc_rbf[0, 0] # True Negatives\n",
    "FP = conf_matrix_svc_rbf[0, 1] # False Positives\n",
    "FN = conf_matrix_svc_rbf[1, 0] # False Negatives"
   ]
  },
  {
   "cell_type": "markdown",
   "id": "fba2f8e3",
   "metadata": {
    "id": "f8RSxiWGnJj2"
   },
   "source": [
    "### Accuracy:\n",
    "\n",
    "How often was the model correct?"
   ]
  },
  {
   "cell_type": "code",
   "execution_count": 33,
   "id": "ea87ffe6",
   "metadata": {
    "colab": {
     "base_uri": "https://localhost:8080/",
     "height": 34
    },
    "id": "FfO1nisznIiI",
    "outputId": "878d0f2f-3f3a-41c7-9b9e-d0f428fb950e"
   },
   "outputs": [
    {
     "name": "stdout",
     "output_type": "stream",
     "text": [
      "0.9270\n"
     ]
    }
   ],
   "source": [
    "classification_accuracy = (TP + TN) / (TP + TN + FP + FN)\n",
    "print(f\"{classification_accuracy:.4f}\")"
   ]
  },
  {
   "cell_type": "markdown",
   "id": "caad9c31",
   "metadata": {
    "id": "qZGZKw3bnMye"
   },
   "source": [
    "### Misclassification Rate:\n",
    "\n",
    "How often was the model incorrect?"
   ]
  },
  {
   "cell_type": "code",
   "execution_count": 34,
   "id": "a21a18a7",
   "metadata": {
    "colab": {
     "base_uri": "https://localhost:8080/",
     "height": 51
    },
    "id": "1YLQMVIVnMC_",
    "outputId": "8bfe3f91-530d-421f-aeda-5a53febf6635"
   },
   "outputs": [
    {
     "name": "stdout",
     "output_type": "stream",
     "text": [
      "0.0730\n"
     ]
    }
   ],
   "source": [
    "classification_error = (FP + FN) / (TP + TN + FP + FN)\n",
    "# this is the same as ...\n",
    "# classification_error = 1-classification_accuracy\n",
    "\n",
    "print(f\"{classification_error:.4f}\")"
   ]
  },
  {
   "cell_type": "markdown",
   "id": "13675887",
   "metadata": {
    "id": "SzKkssIbnPXd"
   },
   "source": [
    "### Precision: \n",
    "\n",
    "When a positive value is predicted, how often is the prediction correct?\n",
    "\n",
    "In other wordes: How \"precise\" is the classifier when predicting positive instances?"
   ]
  },
  {
   "cell_type": "code",
   "execution_count": 35,
   "id": "7357c436",
   "metadata": {
    "colab": {
     "base_uri": "https://localhost:8080/",
     "height": 34
    },
    "id": "DE2o7HIxnP7F",
    "outputId": "cc8b3fe4-0e6e-428a-9907-e46e8e7d007e"
   },
   "outputs": [
    {
     "name": "stdout",
     "output_type": "stream",
     "text": [
      "0.8929\n"
     ]
    }
   ],
   "source": [
    "precision = TP / (TP + FP)\n",
    "print(f\"{precision:.4f}\")"
   ]
  },
  {
   "cell_type": "markdown",
   "id": "3e79679c",
   "metadata": {
    "id": "tjSqr2r2nQPm"
   },
   "source": [
    "### Recall (aka sensititivy):\n",
    "\n",
    "Ability of a classification model to identify all relevant instances. \n",
    "Also referred to as Sensitivity, Probability of Detection, True Positive Rate\n"
   ]
  },
  {
   "cell_type": "code",
   "execution_count": 36,
   "id": "4baf468e",
   "metadata": {
    "colab": {
     "base_uri": "https://localhost:8080/",
     "height": 34
    },
    "id": "DT7oM6VtoVuq",
    "outputId": "974479f7-52d7-4550-a4a3-d3556fe03f81"
   },
   "outputs": [
    {
     "name": "stdout",
     "output_type": "stream",
     "text": [
      "0.5556\n"
     ]
    }
   ],
   "source": [
    "recall = TP / (TP + FN)\n",
    "print(f\"{recall:.4f}\")"
   ]
  },
  {
   "cell_type": "markdown",
   "id": "9160f588",
   "metadata": {
    "id": "hK9rHhz8nPk8"
   },
   "source": [
    "### F1 Score\n",
    "\n",
    "This is a measure that takes the harmonic mean of precision and recall."
   ]
  },
  {
   "cell_type": "code",
   "execution_count": 37,
   "id": "8c2791b0",
   "metadata": {
    "colab": {
     "base_uri": "https://localhost:8080/",
     "height": 34
    },
    "id": "cXVb-Q59ox_k",
    "outputId": "ee546904-3955-492b-b0aa-b13cf06aacf4"
   },
   "outputs": [
    {
     "name": "stdout",
     "output_type": "stream",
     "text": [
      "0.6849\n"
     ]
    }
   ],
   "source": [
    "f1_Score = (2 * precision * recall) / (precision + recall)\n",
    "print(f\"{f1_Score:.4f}\")"
   ]
  },
  {
   "cell_type": "markdown",
   "id": "82620203",
   "metadata": {},
   "source": [
    "SVM non linear model performed better than earlier models with better recall value of 0.5556 and F1 score of 0.6849.but this is not the optimal performance required. we will try to fit decision tree model and compare the performance"
   ]
  },
  {
   "cell_type": "markdown",
   "id": "9a44f76d",
   "metadata": {},
   "source": [
    "# Decision Tree Model"
   ]
  },
  {
   "cell_type": "code",
   "execution_count": 38,
   "id": "8f327b8f",
   "metadata": {
    "scrolled": true
   },
   "outputs": [],
   "source": [
    "decision_tree=DecisionTreeClassifier(random_state=42)\n",
    "decision_tree.fit(X_train,y_train)\n",
    "y_pred_dtree=decision_tree.predict(X_test)"
   ]
  },
  {
   "cell_type": "markdown",
   "id": "797e1c4c",
   "metadata": {},
   "source": [
    "### What would the expected returns from using our model?"
   ]
  },
  {
   "cell_type": "markdown",
   "id": "68c83a3a",
   "metadata": {},
   "source": [
    "Let's look at the confusion matrix of the performance of the model on the test data."
   ]
  },
  {
   "cell_type": "code",
   "execution_count": 39,
   "id": "09975636",
   "metadata": {},
   "outputs": [
    {
     "data": {
      "text/html": [
       "<div>\n",
       "<style scoped>\n",
       "    .dataframe tbody tr th:only-of-type {\n",
       "        vertical-align: middle;\n",
       "    }\n",
       "\n",
       "    .dataframe tbody tr th {\n",
       "        vertical-align: top;\n",
       "    }\n",
       "\n",
       "    .dataframe thead th {\n",
       "        text-align: right;\n",
       "    }\n",
       "</style>\n",
       "<table border=\"1\" class=\"dataframe\">\n",
       "  <thead>\n",
       "    <tr style=\"text-align: right;\">\n",
       "      <th></th>\n",
       "      <th>actual</th>\n",
       "      <th>predicted</th>\n",
       "    </tr>\n",
       "  </thead>\n",
       "  <tbody>\n",
       "    <tr>\n",
       "      <th>0</th>\n",
       "      <td>0</td>\n",
       "      <td>1</td>\n",
       "    </tr>\n",
       "    <tr>\n",
       "      <th>1</th>\n",
       "      <td>0</td>\n",
       "      <td>0</td>\n",
       "    </tr>\n",
       "    <tr>\n",
       "      <th>2</th>\n",
       "      <td>0</td>\n",
       "      <td>0</td>\n",
       "    </tr>\n",
       "    <tr>\n",
       "      <th>3</th>\n",
       "      <td>0</td>\n",
       "      <td>0</td>\n",
       "    </tr>\n",
       "    <tr>\n",
       "      <th>4</th>\n",
       "      <td>0</td>\n",
       "      <td>0</td>\n",
       "    </tr>\n",
       "    <tr>\n",
       "      <th>5</th>\n",
       "      <td>1</td>\n",
       "      <td>1</td>\n",
       "    </tr>\n",
       "    <tr>\n",
       "      <th>6</th>\n",
       "      <td>1</td>\n",
       "      <td>1</td>\n",
       "    </tr>\n",
       "    <tr>\n",
       "      <th>7</th>\n",
       "      <td>0</td>\n",
       "      <td>0</td>\n",
       "    </tr>\n",
       "    <tr>\n",
       "      <th>8</th>\n",
       "      <td>1</td>\n",
       "      <td>1</td>\n",
       "    </tr>\n",
       "    <tr>\n",
       "      <th>9</th>\n",
       "      <td>0</td>\n",
       "      <td>0</td>\n",
       "    </tr>\n",
       "    <tr>\n",
       "      <th>10</th>\n",
       "      <td>0</td>\n",
       "      <td>0</td>\n",
       "    </tr>\n",
       "    <tr>\n",
       "      <th>11</th>\n",
       "      <td>0</td>\n",
       "      <td>0</td>\n",
       "    </tr>\n",
       "    <tr>\n",
       "      <th>12</th>\n",
       "      <td>0</td>\n",
       "      <td>0</td>\n",
       "    </tr>\n",
       "    <tr>\n",
       "      <th>13</th>\n",
       "      <td>0</td>\n",
       "      <td>0</td>\n",
       "    </tr>\n",
       "    <tr>\n",
       "      <th>14</th>\n",
       "      <td>1</td>\n",
       "      <td>1</td>\n",
       "    </tr>\n",
       "    <tr>\n",
       "      <th>15</th>\n",
       "      <td>0</td>\n",
       "      <td>0</td>\n",
       "    </tr>\n",
       "    <tr>\n",
       "      <th>16</th>\n",
       "      <td>0</td>\n",
       "      <td>0</td>\n",
       "    </tr>\n",
       "    <tr>\n",
       "      <th>17</th>\n",
       "      <td>0</td>\n",
       "      <td>0</td>\n",
       "    </tr>\n",
       "    <tr>\n",
       "      <th>18</th>\n",
       "      <td>1</td>\n",
       "      <td>0</td>\n",
       "    </tr>\n",
       "    <tr>\n",
       "      <th>19</th>\n",
       "      <td>1</td>\n",
       "      <td>1</td>\n",
       "    </tr>\n",
       "  </tbody>\n",
       "</table>\n",
       "</div>"
      ],
      "text/plain": [
       "    actual  predicted\n",
       "0        0          1\n",
       "1        0          0\n",
       "2        0          0\n",
       "3        0          0\n",
       "4        0          0\n",
       "5        1          1\n",
       "6        1          1\n",
       "7        0          0\n",
       "8        1          1\n",
       "9        0          0\n",
       "10       0          0\n",
       "11       0          0\n",
       "12       0          0\n",
       "13       0          0\n",
       "14       1          1\n",
       "15       0          0\n",
       "16       0          0\n",
       "17       0          0\n",
       "18       1          0\n",
       "19       1          1"
      ]
     },
     "execution_count": 39,
     "metadata": {},
     "output_type": "execute_result"
    }
   ],
   "source": [
    "results = pd.DataFrame()\n",
    "results['actual'] = y_test\n",
    "results['predicted'] = y_pred_dtree\n",
    "results.head(20)"
   ]
  },
  {
   "cell_type": "markdown",
   "id": "23d9e367",
   "metadata": {
    "id": "hnRpvv2znmO6"
   },
   "source": [
    "## Measure performance of model using confusion matrix"
   ]
  },
  {
   "cell_type": "code",
   "execution_count": 40,
   "id": "041e7a72",
   "metadata": {
    "scrolled": true
   },
   "outputs": [
    {
     "data": {
      "application/vnd.jupyter.widget-view+json": {
       "model_id": "f9d45a504f76476580435d59c5758dbc",
       "version_major": 2,
       "version_minor": 0
      },
      "image/png": "[encoded data removed]",
      "text/html": [
       "\n",
       "            <div style=\"display: inline-block;\">\n",
       "                <div class=\"jupyter-widgets widget-label\" style=\"text-align: center;\">\n",
       "                    Figure\n",
       "                </div>\n",
       "                <img src='data:image/png;base64,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' width=800.0/>\n",
       "            </div>\n",
       "        "
      ],
      "text/plain": [
       "Canvas(toolbar=Toolbar(toolitems=[('Home', 'Reset original view', 'home', 'home'), ('Back', 'Back to previous …"
      ]
     },
     "metadata": {},
     "output_type": "display_data"
    }
   ],
   "source": [
    "# display the confusion matrix\n",
    "conf_matrix_dtree = confusion_matrix(results['actual'], results['predicted'])\n",
    "\n",
    "fig, ax = plt.subplots(figsize=(8, 6))\n",
    "\n",
    "ConfusionMatrixDisplay.from_predictions(\n",
    "    results['actual'], results['predicted'], display_labels=model.classes_, ax=ax, colorbar=False, cmap=plt.cm.Blues\n",
    ")\n",
    "\n",
    "plt.show()"
   ]
  },
  {
   "cell_type": "code",
   "execution_count": 41,
   "id": "df6d1463",
   "metadata": {},
   "outputs": [
    {
     "name": "stdout",
     "output_type": "stream",
     "text": [
      "Model Accuracy: 0.94\n"
     ]
    }
   ],
   "source": [
    "# Evaluate the model's performance\n",
    "score = decision_tree.score(X_test, y_test)\n",
    "print(f\"Model Accuracy: {score:.2f}\")"
   ]
  },
  {
   "cell_type": "code",
   "execution_count": 42,
   "id": "eb94a486",
   "metadata": {
    "id": "5ulijKuInH4J"
   },
   "outputs": [],
   "source": [
    "TP = conf_matrix_dtree[1, 1] # True Positives\n",
    "TN = conf_matrix_dtree[0, 0] # True Negatives\n",
    "FP = conf_matrix_dtree[0, 1] # False Positives\n",
    "FN = conf_matrix_dtree[1, 0] # False Negatives"
   ]
  },
  {
   "cell_type": "markdown",
   "id": "0449837e",
   "metadata": {
    "id": "f8RSxiWGnJj2"
   },
   "source": [
    "### Accuracy:\n",
    "\n",
    "How often was the model correct?"
   ]
  },
  {
   "cell_type": "code",
   "execution_count": 43,
   "id": "8b359fd3",
   "metadata": {
    "colab": {
     "base_uri": "https://localhost:8080/",
     "height": 34
    },
    "id": "FfO1nisznIiI",
    "outputId": "878d0f2f-3f3a-41c7-9b9e-d0f428fb950e"
   },
   "outputs": [
    {
     "name": "stdout",
     "output_type": "stream",
     "text": [
      "0.9429\n"
     ]
    }
   ],
   "source": [
    "classification_accuracy = (TP + TN) / (TP + TN + FP + FN)\n",
    "print(f\"{classification_accuracy:.4f}\")"
   ]
  },
  {
   "cell_type": "markdown",
   "id": "a5770e7d",
   "metadata": {
    "id": "qZGZKw3bnMye"
   },
   "source": [
    "### Misclassification Rate:\n",
    "\n",
    "How often was the model incorrect?"
   ]
  },
  {
   "cell_type": "code",
   "execution_count": 44,
   "id": "381a609a",
   "metadata": {
    "colab": {
     "base_uri": "https://localhost:8080/",
     "height": 51
    },
    "id": "1YLQMVIVnMC_",
    "outputId": "8bfe3f91-530d-421f-aeda-5a53febf6635"
   },
   "outputs": [
    {
     "name": "stdout",
     "output_type": "stream",
     "text": [
      "0.0571\n"
     ]
    }
   ],
   "source": [
    "classification_error = (FP + FN) / (TP + TN + FP + FN)\n",
    "# this is the same as ...\n",
    "# classification_error = 1-classification_accuracy\n",
    "\n",
    "print(f\"{classification_error:.4f}\")"
   ]
  },
  {
   "cell_type": "markdown",
   "id": "1df0e1ce",
   "metadata": {
    "id": "SzKkssIbnPXd"
   },
   "source": [
    "### Precision: \n",
    "\n",
    "When a positive value is predicted, how often is the prediction correct?\n",
    "\n",
    "In other wordes: How \"precise\" is the classifier when predicting positive instances?"
   ]
  },
  {
   "cell_type": "code",
   "execution_count": 45,
   "id": "50d0ed60",
   "metadata": {
    "colab": {
     "base_uri": "https://localhost:8080/",
     "height": 34
    },
    "id": "DE2o7HIxnP7F",
    "outputId": "cc8b3fe4-0e6e-428a-9907-e46e8e7d007e"
   },
   "outputs": [
    {
     "name": "stdout",
     "output_type": "stream",
     "text": [
      "0.7956\n"
     ]
    }
   ],
   "source": [
    "precision = TP / (TP + FP)\n",
    "print(f\"{precision:.4f}\")"
   ]
  },
  {
   "cell_type": "markdown",
   "id": "9c9405a7",
   "metadata": {
    "id": "tjSqr2r2nQPm"
   },
   "source": [
    "### Recall (aka sensititivy):\n",
    "\n",
    "Ability of a classification model to identify all relevant instances. \n",
    "Also referred to as Sensitivity, Probability of Detection, True Positive Rate\n"
   ]
  },
  {
   "cell_type": "code",
   "execution_count": 46,
   "id": "661b804d",
   "metadata": {
    "colab": {
     "base_uri": "https://localhost:8080/",
     "height": 34
    },
    "id": "DT7oM6VtoVuq",
    "outputId": "974479f7-52d7-4550-a4a3-d3556fe03f81"
   },
   "outputs": [
    {
     "name": "stdout",
     "output_type": "stream",
     "text": [
      "0.8074\n"
     ]
    }
   ],
   "source": [
    "recall = TP / (TP + FN)\n",
    "print(f\"{recall:.4f}\")"
   ]
  },
  {
   "cell_type": "markdown",
   "id": "4ff0cf76",
   "metadata": {
    "id": "hK9rHhz8nPk8"
   },
   "source": [
    "### F1 Score\n",
    "\n",
    "This is a measure that takes the harmonic mean of precision and recall."
   ]
  },
  {
   "cell_type": "code",
   "execution_count": 47,
   "id": "c67760e2",
   "metadata": {
    "colab": {
     "base_uri": "https://localhost:8080/",
     "height": 34
    },
    "id": "cXVb-Q59ox_k",
    "outputId": "ee546904-3955-492b-b0aa-b13cf06aacf4"
   },
   "outputs": [
    {
     "name": "stdout",
     "output_type": "stream",
     "text": [
      "0.8015\n"
     ]
    }
   ],
   "source": [
    "f1_Score = (2 * precision * recall) / (precision + recall)\n",
    "print(f\"{f1_Score:.4f}\")"
   ]
  },
  {
   "cell_type": "markdown",
   "id": "c03d1009",
   "metadata": {},
   "source": [
    "Decision Tree performed best of all the models even though accuracy and precision reduced compared to SVM model, recall and F1 score imporved a lot with recall of 0.8074 and F1 score of 0.8015. This is the best model for business so far. We will use hyperparameter tuning and better the performance"
   ]
  },
  {
   "cell_type": "markdown",
   "id": "09226def",
   "metadata": {
    "id": "EouSfy5vIYm8"
   },
   "source": [
    "## Prediction with Decision Tree (using hyperparameter tuning)"
   ]
  },
  {
   "cell_type": "markdown",
   "id": "43f9e2ac",
   "metadata": {
    "id": "VA3Yw37NeyaU"
   },
   "source": [
    "This section demonstrates how to refine the performance of a decision tree using hyperparameter tuning techniques. \n",
    "\n",
    "This section doesn't duplicate the data loading, cleaning, and splitting of the first section. This section shows how to create and test a random forest classifier using best_random_search_modelCV and best_grid_search_modelCV techniques. \n",
    "\n",
    "Both best_random_search_modelCV and best_grid_search_modelCV test different model parameters. These help to determine the parameters that produce the best performing model."
   ]
  },
  {
   "cell_type": "markdown",
   "id": "93f49f1d",
   "metadata": {
    "id": "AqWYH75ZgZRA"
   },
   "source": [
    "###  Determine the parameters that can be \"tuned\"\n",
    "\n",
    "You can review the parameters of the model which you're trying to \"tune\". In this case, we're using a DecisionTreeClassifier. Begin by reviewing the parameters for this model found [here](https://scikit-learn.org/stable/modules/generated/sklearn.tree.DecisionTreeClassifier.html)"
   ]
  },
  {
   "cell_type": "markdown",
   "id": "f73a8636",
   "metadata": {
    "id": "hUIGBpt9gytG"
   },
   "source": [
    "After reviewing these parameters (while also understanding something about DecisionTrees), we can identify the following parameters that could affect model fit. \n",
    "\n",
    "* criterion\n",
    "* max_depth\n",
    "* min_samples_split\n",
    "* min_samples_leaf\n",
    "* max_leaf_nodes\n",
    "* min_impurity_decrease\n",
    "\n"
   ]
  },
  {
   "cell_type": "markdown",
   "id": "1cf99098",
   "metadata": {
    "id": "I1w-3ddohW8S"
   },
   "source": [
    "###  Create an initial 'wide' range of possible hyperparameter values"
   ]
  },
  {
   "cell_type": "markdown",
   "id": "7007105d",
   "metadata": {
    "id": "mAal78lyhhEx"
   },
   "source": [
    "Here we create a wide range of possible parameter values for each of the hyperparameters we've listed above. \n"
   ]
  },
  {
   "cell_type": "code",
   "execution_count": 48,
   "id": "8db5dcf7",
   "metadata": {
    "id": "_7C9BvWWIbfg"
   },
   "outputs": [],
   "source": [
    "# Criterion used to guide data splits\n",
    "criterion = ['gini', 'entropy', 'log_loss']\n",
    "\n",
    "# Maximum number of levels in tree. If None, then nodes are expanded until all leaves are pure or until all \n",
    "# leaves contain less than min_samples_split samples.\n",
    "# default = None\n",
    "max_depth = [int(x) for x in np.linspace(1, 50, 5)]\n",
    "max_depth.append(None)\n",
    "\n",
    "# Minimum number of samples required to split a node\n",
    "# default is 2\n",
    "min_samples_split = [int(x) for x in np.linspace(2, 50, 5)]\n",
    "\n",
    "# Minimum number of samples required at each leaf node\n",
    "# default = 1 \n",
    "min_samples_leaf = [int(x) for x in np.linspace(1, 50, 5)]\n",
    "\n",
    "# max_leaf_nodes  - Grow trees with max_leaf_nodes in best-first fashion.\n",
    "# If None then unlimited number of leaf nodes.\n",
    "# default=None \n",
    "max_leaf_nodes = [int(x) for x in np.linspace(2, len(y_test), 50)]\n",
    "max_leaf_nodes.append(None)\n",
    "\n",
    "# min_impurity_decrease - A node will be split if this split induces a decrease of the impurity greater than or equal to this value.\n",
    "# default=0.0\n",
    "min_impurity_decrease = [x for x in np.arange(0.0, 0.01, 0.0001).round(5)]\n",
    "\n",
    "# Create the random grid\n",
    "param_grid_random = { 'criterion': criterion,\n",
    "                      'max_depth': max_depth,\n",
    "                      'min_samples_split': min_samples_split,\n",
    "                      'min_samples_leaf' : min_samples_leaf,\n",
    "                      'max_leaf_nodes' : max_leaf_nodes,\n",
    "                      'min_impurity_decrease' : min_impurity_decrease,\n",
    "                     }\n",
    "\n"
   ]
  },
  {
   "cell_type": "markdown",
   "id": "78d74b40",
   "metadata": {
    "id": "hOlUlWyTjFt3"
   },
   "source": [
    "###  Use Randomize Search to narrow the possible range of parameter values\n"
   ]
  },
  {
   "cell_type": "code",
   "execution_count": 49,
   "id": "ef70d6c8",
   "metadata": {
    "colab": {
     "base_uri": "https://localhost:8080/",
     "height": 122
    },
    "id": "D9-MlOV1MHyr",
    "outputId": "f5ee1e90-97d4-4a3a-9e5d-8e14bd8fc307"
   },
   "outputs": [],
   "source": [
    "dtree_default = DecisionTreeClassifier(random_state=random_seed)\n",
    "# change n_iter to 200_000 for full run\n",
    "best_random_search_model = RandomizedSearchCV(\n",
    "        estimator=DecisionTreeClassifier(random_state=random_seed), \n",
    "        scoring='recall', \n",
    "        param_distributions=param_grid_random, \n",
    "        n_iter = 20, \n",
    "        cv=10, \n",
    "        verbose=0, \n",
    "        n_jobs = -1\n",
    "    )\n",
    "_ = best_random_search_model.fit(X_train, y_train)"
   ]
  },
  {
   "cell_type": "code",
   "execution_count": 50,
   "id": "c7200484",
   "metadata": {},
   "outputs": [
    {
     "name": "stdout",
     "output_type": "stream",
     "text": [
      "Best parameters found:  {'min_samples_split': 38, 'min_samples_leaf': 1, 'min_impurity_decrease': 0.0035, 'max_leaf_nodes': 521, 'max_depth': 37, 'criterion': 'entropy'}\n"
     ]
    }
   ],
   "source": [
    "random_search_best_params = best_random_search_model.best_params_\n",
    "print('Best parameters found: ', random_search_best_params)"
   ]
  },
  {
   "cell_type": "markdown",
   "id": "7783d017",
   "metadata": {
    "id": "EGkze5JWjkAL"
   },
   "source": [
    "###  Test the performance of the selected parameters"
   ]
  },
  {
   "cell_type": "code",
   "execution_count": 51,
   "id": "71313a8b",
   "metadata": {
    "colab": {
     "base_uri": "https://localhost:8080/",
     "height": 68
    },
    "id": "baZShx5VXIr9",
    "outputId": "8ea3df06-8a7b-408f-bf46-91d9056a294d"
   },
   "outputs": [
    {
     "name": "stdout",
     "output_type": "stream",
     "text": [
      "************************************\n",
      "Recall Score:     0.8074074074074075\n",
      "************************************\n",
      "Accuracy Score:   0.9248677248677248\n",
      "Precision Score:  0.7077922077922078\n",
      "F1 Score:         0.754325259515571\n",
      "************************************\n"
     ]
    }
   ],
   "source": [
    "y_pred_random = best_random_search_model.predict(X_test)\n",
    "print(\"************************************\")\n",
    "print(f\"{'Recall Score:':18}{recall_score(y_test, y_pred_random)}\")\n",
    "print(\"************************************\")\n",
    "print(f\"{'Accuracy Score: ':18}{accuracy_score(y_test, y_pred_random)}\")\n",
    "print(f\"{'Precision Score: ':18}{precision_score(y_test, y_pred_random)}\")\n",
    "print(f\"{'F1 Score: ':18}{f1_score(y_test, y_pred_random)}\")\n",
    "print(\"************************************\")"
   ]
  },
  {
   "cell_type": "markdown",
   "id": "e7ce8d02",
   "metadata": {},
   "source": [
    "Recall score is quite similar to what we had before and with hyperparameter tuning we reduced overfitting, increased robustness and convergernce, model performance as well."
   ]
  },
  {
   "cell_type": "markdown",
   "id": "fbb09d1b",
   "metadata": {
    "id": "CAqjsBT5jzw9"
   },
   "source": [
    "###  Use knowledge gained from random search to create new 'narrow' range of possible hyperparameter values and use best_grid_search_model to fine tune the model."
   ]
  },
  {
   "cell_type": "markdown",
   "id": "9439e030",
   "metadata": {},
   "source": [
    "The best parameters found using RandomizedSearchCV were:"
   ]
  },
  {
   "cell_type": "code",
   "execution_count": 52,
   "id": "31a543db",
   "metadata": {},
   "outputs": [
    {
     "data": {
      "text/plain": [
       "{'min_samples_split': 38,\n",
       " 'min_samples_leaf': 1,\n",
       " 'min_impurity_decrease': 0.0035,\n",
       " 'max_leaf_nodes': 521,\n",
       " 'max_depth': 37,\n",
       " 'criterion': 'entropy'}"
      ]
     },
     "execution_count": 52,
     "metadata": {},
     "output_type": "execute_result"
    }
   ],
   "source": [
    "random_search_best_params"
   ]
  },
  {
   "cell_type": "markdown",
   "id": "d085117d",
   "metadata": {},
   "source": [
    "Let's now use these current best parameters as a starting point for a more refined grid search. We'll use the same parameters as before, but we'll use a much smaller range of values for each parameter.\n",
    "\n",
    "NOTE: Depending on the speed of your computer, the following code could take 5-20 minutes to run."
   ]
  },
  {
   "cell_type": "code",
   "execution_count": 53,
   "id": "fbcc8c65",
   "metadata": {
    "id": "UnKODm5APuXc"
   },
   "outputs": [],
   "source": [
    "plus_minus = 5 # change this to 10-15 when doing a final run. this current value is for testing\n",
    "increment = 2\n",
    "\n",
    "param_grid = { 'min_samples_split': [x for x in range(random_search_best_params['min_samples_split']-plus_minus, random_search_best_params['min_samples_split']+plus_minus,2) if x >= 2],       \n",
    "              'min_samples_leaf': [x for x in range(random_search_best_params['min_samples_leaf']-plus_minus , random_search_best_params['min_samples_leaf']+plus_minus,2) if x > 0],\n",
    "              'min_impurity_decrease': [x for x in np.arange(random_search_best_params['min_impurity_decrease']-0.001, random_search_best_params['min_impurity_decrease']+0.001,.0001).round(5) if x >= 0.000],\n",
    "              'max_leaf_nodes':[x for x in range(random_search_best_params['max_leaf_nodes']-plus_minus , random_search_best_params['max_leaf_nodes']+plus_minus, 2) if x > 1],  \n",
    "              'max_depth': [x for x in range(random_search_best_params['max_depth']-plus_minus , random_search_best_params['max_depth']+plus_minus, 2) if x > 1],\n",
    "              'criterion': [random_search_best_params['criterion']]\n",
    "              }\n",
    "\n",
    "best_grid_search_model = GridSearchCV(estimator=DecisionTreeClassifier(random_state=random_seed), \n",
    "                                    scoring='recall', param_grid=param_grid, cv=10, verbose=0,  n_jobs = -1)\n",
    "_ = best_grid_search_model.fit(X_train, y_train)"
   ]
  },
  {
   "cell_type": "code",
   "execution_count": 54,
   "id": "cce0bfd6",
   "metadata": {
    "tags": []
   },
   "outputs": [
    {
     "name": "stdout",
     "output_type": "stream",
     "text": [
      "Best parameters found:  {'criterion': 'entropy', 'max_depth': 32, 'max_leaf_nodes': 516, 'min_impurity_decrease': 0.0028, 'min_samples_leaf': 2, 'min_samples_split': 33}\n"
     ]
    }
   ],
   "source": [
    "print('Best parameters found: ', best_grid_search_model.best_params_)"
   ]
  },
  {
   "cell_type": "markdown",
   "id": "a953c2c7",
   "metadata": {
    "id": "KAv6LTYVkhA_"
   },
   "source": [
    "###  Test the performance of the model using identified parameters"
   ]
  },
  {
   "cell_type": "code",
   "execution_count": 55,
   "id": "e39a9b05",
   "metadata": {
    "colab": {
     "base_uri": "https://localhost:8080/",
     "height": 68
    },
    "id": "P0fWR0cvNiec",
    "outputId": "b0f56254-61ec-4095-cd82-f6c3b4895685"
   },
   "outputs": [
    {
     "name": "stdout",
     "output_type": "stream",
     "text": [
      "************************************\n",
      "Recall Score:     0.8074074074074075\n",
      "************************************\n",
      "Accuracy Score:   0.9248677248677248\n",
      "Precision Score:  0.7077922077922078\n",
      "F1 Score:         0.754325259515571\n",
      "************************************\n"
     ]
    }
   ],
   "source": [
    "y_pred_grid = best_grid_search_model.predict(X_test)\n",
    "print(\"************************************\")\n",
    "print(f\"{'Recall Score:':18}{recall_score(y_test, y_pred_grid)}\")\n",
    "print(\"************************************\")\n",
    "print(f\"{'Accuracy Score: ':18}{accuracy_score(y_test, y_pred_grid)}\")\n",
    "print(f\"{'Precision Score: ':18}{precision_score(y_test, y_pred_grid)}\")\n",
    "print(f\"{'F1 Score: ':18}{f1_score(y_test, y_pred_grid)}\")\n",
    "print(\"************************************\")"
   ]
  },
  {
   "cell_type": "markdown",
   "id": "d4aedbbd",
   "metadata": {},
   "source": [
    "Recall score is quite similar to what we had before and with hyperparameter tuning we reduced overfitting, increased robustness and convergernce, model performance as well."
   ]
  },
  {
   "cell_type": "markdown",
   "id": "1e7b30c8",
   "metadata": {},
   "source": [
    "# Logistic Regression Hyperparameter tuning"
   ]
  },
  {
   "cell_type": "markdown",
   "id": "472e65ce",
   "metadata": {
    "id": "VA3Yw37NeyaU"
   },
   "source": [
    "This section demonstrates how to refine the performance of a Logistic Regression using hyperparameter tuning techniques. \n",
    "\n",
    "This section doesn't duplicate the data loading, cleaning, and splitting of the first section. This section shows how to create and test a random forest classifier using best_random_search_modelCV and best_grid_search_modelCV techniques. \n",
    "\n",
    "Both best_random_search_modelCV and best_grid_search_modelCV test different model parameters. These help to determine the parameters that produce the best performing model."
   ]
  },
  {
   "cell_type": "markdown",
   "id": "de5f1bfe",
   "metadata": {
    "id": "AqWYH75ZgZRA"
   },
   "source": [
    "###  Determine the parameters that can be \"tuned\"\n",
    "\n",
    "You can review the parameters of the model which you're trying to \"tune\". In this case, we're using a Logistic Regression"
   ]
  },
  {
   "cell_type": "markdown",
   "id": "bb1db937",
   "metadata": {
    "id": "hUIGBpt9gytG"
   },
   "source": [
    "After reviewing these parameters (while also understanding something about DecisionTrees), we can identify the following parameters that could affect model fit. \n",
    "\n",
    "* C  # Range of regularization parameter\n",
    "    \n",
    "* penalty # Regularization type\n",
    "\n"
   ]
  },
  {
   "cell_type": "markdown",
   "id": "0b746777",
   "metadata": {
    "id": "hOlUlWyTjFt3"
   },
   "source": [
    "###  Use Randomize Search to narrow the possible range of parameter values\n"
   ]
  },
  {
   "cell_type": "code",
   "execution_count": 56,
   "id": "0a68d859",
   "metadata": {},
   "outputs": [
    {
     "name": "stdout",
     "output_type": "stream",
     "text": [
      "Best hyperparameters: {'penalty': 'l2', 'max_iter': 100, 'C': 13.848863713938718}\n"
     ]
    },
    {
     "name": "stderr",
     "output_type": "stream",
     "text": [
      "C:\\Users\\sande\\anaconda3\\Lib\\site-packages\\sklearn\\model_selection\\_validation.py:425: FitFailedWarning: \n",
      "30 fits failed out of a total of 50.\n",
      "The score on these train-test partitions for these parameters will be set to nan.\n",
      "If these failures are not expected, you can try to debug them by setting error_score='raise'.\n",
      "\n",
      "Below are more details about the failures:\n",
      "--------------------------------------------------------------------------------\n",
      "30 fits failed with the following error:\n",
      "Traceback (most recent call last):\n",
      "  File \"C:\\Users\\sande\\anaconda3\\Lib\\site-packages\\sklearn\\model_selection\\_validation.py\", line 732, in _fit_and_score\n",
      "    estimator.fit(X_train, y_train, **fit_params)\n",
      "  File \"C:\\Users\\sande\\anaconda3\\Lib\\site-packages\\sklearn\\base.py\", line 1151, in wrapper\n",
      "    return fit_method(estimator, *args, **kwargs)\n",
      "           ^^^^^^^^^^^^^^^^^^^^^^^^^^^^^^^^^^^^^^\n",
      "  File \"C:\\Users\\sande\\anaconda3\\Lib\\site-packages\\sklearn\\linear_model\\_logistic.py\", line 1168, in fit\n",
      "    solver = _check_solver(self.solver, self.penalty, self.dual)\n",
      "             ^^^^^^^^^^^^^^^^^^^^^^^^^^^^^^^^^^^^^^^^^^^^^^^^^^^\n",
      "  File \"C:\\Users\\sande\\anaconda3\\Lib\\site-packages\\sklearn\\linear_model\\_logistic.py\", line 56, in _check_solver\n",
      "    raise ValueError(\n",
      "ValueError: Solver lbfgs supports only 'l2' or 'none' penalties, got l1 penalty.\n",
      "\n",
      "  warnings.warn(some_fits_failed_message, FitFailedWarning)\n",
      "C:\\Users\\sande\\anaconda3\\Lib\\site-packages\\sklearn\\model_selection\\_search.py:976: UserWarning: One or more of the test scores are non-finite: [0.89160998        nan 0.88117914        nan 0.89433107        nan\n",
      " 0.89478458        nan        nan        nan]\n",
      "  warnings.warn(\n"
     ]
    }
   ],
   "source": [
    "# Define hyperparameter ranges to search\n",
    "param_dist = {\n",
    "     'C': np.logspace(-3, 2, 100),  # Range of regularization parameter\n",
    "    'penalty': ['l1', 'l2'],  # Regularization type\n",
    "    'max_iter': [100, 200]  # Number of iterations\n",
    "}\n",
    "\n",
    "# Create a Random Search object\n",
    "random_search = RandomizedSearchCV(LogisticRegression(max_iter=100,n_jobs=-1), param_distributions=param_dist, n_iter=10, cv=5, random_state=42)\n",
    "\n",
    "# Fit the model with data\n",
    "random_search.fit(X_train, y_train)\n",
    "\n",
    "# Print the best hyperparameters\n",
    "print(\"Best hyperparameters:\", random_search.best_params_)\n"
   ]
  },
  {
   "cell_type": "markdown",
   "id": "fcd9b3c8",
   "metadata": {
    "id": "EGkze5JWjkAL"
   },
   "source": [
    "###  Test the performance of the selected parameters"
   ]
  },
  {
   "cell_type": "code",
   "execution_count": 57,
   "id": "7523d0ee",
   "metadata": {},
   "outputs": [
    {
     "name": "stdout",
     "output_type": "stream",
     "text": [
      "Random Search - Best Parameters:\n",
      "{'penalty': 'l2', 'max_iter': 100, 'C': 13.848863713938718}\n",
      "Random Search - Test Accuracy: 0.8899470899470899\n",
      "Random Search - Test Recall: 0.43703703703703706\n",
      "Random Search - Test Precision: 0.6781609195402298\n",
      "Random Search - Test F1 Score: 0.5315315315315315\n"
     ]
    }
   ],
   "source": [
    "print(\"Random Search - Best Parameters:\")\n",
    "print(random_search.best_params_)\n",
    "\n",
    "# Evaluate the model with the best parameters on the test set\n",
    "random_best_model = random_search.best_estimator_\n",
    "y_pred = random_best_model.predict(X_test)\n",
    "print(\"Random Search - Test Accuracy:\", accuracy_score(y_test, y_pred))\n",
    "print(\"Random Search - Test Recall:\", recall_score(y_test, y_pred))\n",
    "print(\"Random Search - Test Precision:\", precision_score(y_test, y_pred ))\n",
    "print(\"Random Search - Test F1 Score:\", f1_score(y_test, y_pred))\n"
   ]
  },
  {
   "cell_type": "markdown",
   "id": "8625ed91",
   "metadata": {
    "id": "CAqjsBT5jzw9"
   },
   "source": [
    "###  Use Grid Search to get possible grid of parameters"
   ]
  },
  {
   "cell_type": "code",
   "execution_count": 58,
   "id": "1e01cfc1",
   "metadata": {},
   "outputs": [
    {
     "name": "stdout",
     "output_type": "stream",
     "text": [
      "Grid Search - Best Parameters:\n",
      "{'C': 10, 'penalty': 'l2'}\n",
      "Grid Search - Test Accuracy: 0.8899470899470899\n",
      "Grid Search - Test Recall: 0.43703703703703706\n",
      "Grid Search - Test Precision: 0.6781609195402298\n",
      "Grid Search - Test F1 Score: 0.5315315315315315\n"
     ]
    },
    {
     "name": "stderr",
     "output_type": "stream",
     "text": [
      "C:\\Users\\sande\\anaconda3\\Lib\\site-packages\\sklearn\\model_selection\\_validation.py:425: FitFailedWarning: \n",
      "30 fits failed out of a total of 60.\n",
      "The score on these train-test partitions for these parameters will be set to nan.\n",
      "If these failures are not expected, you can try to debug them by setting error_score='raise'.\n",
      "\n",
      "Below are more details about the failures:\n",
      "--------------------------------------------------------------------------------\n",
      "30 fits failed with the following error:\n",
      "Traceback (most recent call last):\n",
      "  File \"C:\\Users\\sande\\anaconda3\\Lib\\site-packages\\sklearn\\model_selection\\_validation.py\", line 732, in _fit_and_score\n",
      "    estimator.fit(X_train, y_train, **fit_params)\n",
      "  File \"C:\\Users\\sande\\anaconda3\\Lib\\site-packages\\sklearn\\base.py\", line 1151, in wrapper\n",
      "    return fit_method(estimator, *args, **kwargs)\n",
      "           ^^^^^^^^^^^^^^^^^^^^^^^^^^^^^^^^^^^^^^\n",
      "  File \"C:\\Users\\sande\\anaconda3\\Lib\\site-packages\\sklearn\\linear_model\\_logistic.py\", line 1168, in fit\n",
      "    solver = _check_solver(self.solver, self.penalty, self.dual)\n",
      "             ^^^^^^^^^^^^^^^^^^^^^^^^^^^^^^^^^^^^^^^^^^^^^^^^^^^\n",
      "  File \"C:\\Users\\sande\\anaconda3\\Lib\\site-packages\\sklearn\\linear_model\\_logistic.py\", line 56, in _check_solver\n",
      "    raise ValueError(\n",
      "ValueError: Solver lbfgs supports only 'l2' or 'none' penalties, got l1 penalty.\n",
      "\n",
      "  warnings.warn(some_fits_failed_message, FitFailedWarning)\n",
      "C:\\Users\\sande\\anaconda3\\Lib\\site-packages\\sklearn\\model_selection\\_search.py:976: UserWarning: One or more of the test scores are non-finite: [       nan 0.83673469        nan 0.89160998        nan 0.89251701\n",
      "        nan 0.89251701        nan 0.89478458        nan 0.89478458]\n",
      "  warnings.warn(\n"
     ]
    }
   ],
   "source": [
    "# Create a parameter grid for grid search\n",
    "param_grid = {\n",
    "    'C': [0.001, 0.01, 0.1, 1, 10, 100],  # Regularization strength\n",
    "    'penalty': ['l1', 'l2'],  # Regularization type\n",
    "}\n",
    "\n",
    "grid_search = GridSearchCV(LogisticRegression(max_iter=100, n_jobs=-1), param_grid, cv=5)\n",
    "grid_search.fit(X_train, y_train)\n",
    "\n",
    "print(\"Grid Search - Best Parameters:\")\n",
    "print(grid_search.best_params_)\n",
    "\n",
    "# Evaluate the model with the best parameters on the test set\n",
    "grid_best_model = grid_search.best_estimator_\n",
    "y_pred = grid_best_model.predict(X_test)\n",
    "print(\"Grid Search - Test Accuracy:\", accuracy_score(y_test, y_pred))\n",
    "print(\"Grid Search - Test Recall:\", recall_score(y_test, y_pred))\n",
    "print(\"Grid Search - Test Precision:\", precision_score(y_test, y_pred))\n",
    "print(\"Grid Search - Test F1 Score:\", f1_score(y_test, y_pred))"
   ]
  },
  {
   "cell_type": "markdown",
   "id": "bf98343b",
   "metadata": {},
   "source": [
    "# SVM Hyperparameter Tuning"
   ]
  },
  {
   "cell_type": "code",
   "execution_count": 59,
   "id": "0c146337",
   "metadata": {},
   "outputs": [],
   "source": [
    "### Grid and Random Search Parameters\n",
    "\n",
    "# Create a parameter grid for grid search\n",
    "param_grid = {\n",
    "    'C': [0.1, 1, 10, 100],  # Regularization parameter\n",
    "    'kernel': ['linear', 'rbf'],  # Kernel type\n",
    "    'gamma': [0.1, 1, 10, 'scale', 'auto'],  # Kernel coefficient for 'rbf' and 'poly'\n",
    "}\n",
    "\n",
    "# Create a parameter distribution for random search\n",
    "param_dist = {\n",
    "    'C': [0.1, 1, 10, 100],  # Regularization parameter\n",
    "    'kernel': ['linear', 'rbf'],  # Kernel type\n",
    "    'gamma': [0.1, 1, 10, 'scale', 'auto'],  # Kernel coefficient for 'rbf' and 'poly'\n",
    "}\n"
   ]
  },
  {
   "cell_type": "markdown",
   "id": "1df0eb3d",
   "metadata": {},
   "source": [
    "### Random Search"
   ]
  },
  {
   "cell_type": "code",
   "execution_count": 65,
   "id": "7e18f9b0",
   "metadata": {},
   "outputs": [
    {
     "name": "stdout",
     "output_type": "stream",
     "text": [
      "Random Search - Best Parameters:\n",
      "{'kernel': 'rbf', 'gamma': 'auto', 'C': 100}\n",
      "Random Search - Recall score: 0.8888888888888888\n",
      "{'kernel': 'rbf', 'gamma': 'auto', 'C': 100}\n"
     ]
    }
   ],
   "source": [
    "random_search = RandomizedSearchCV(SVC(), param_distributions=param_dist, n_iter=30, cv=5)\n",
    "random_search.fit(X_train, y_train)\n",
    "\n",
    "print(\"Random Search - Best Parameters:\")\n",
    "print(random_search.best_params_)\n",
    "\n",
    "# Evaluate the model with the best parameters on the test set\n",
    "random_best_model = random_search.best_estimator_\n",
    "y_pred = random_best_model.predict(X_test)\n",
    "print(\"Random Search - Recall score:\", recall_score(y_test, y_pred))\n",
    "\n",
    "# Get the best hyperparameters from the random search\n",
    "random_search_best_params = random_search.best_params_\n",
    "\n",
    "print(random_search_best_params)"
   ]
  },
  {
   "cell_type": "markdown",
   "id": "761160ba",
   "metadata": {
    "id": "CAqjsBT5jzw9"
   },
   "source": [
    "###  Use knowledge gained from random search to create new 'narrow' range of possible hyperparameter values and use best_grid_search_model to fine tune the model."
   ]
  },
  {
   "cell_type": "markdown",
   "id": "93acd13f",
   "metadata": {},
   "source": [
    "The best parameters found using RandomizedSearchCV were:"
   ]
  },
  {
   "cell_type": "code",
   "execution_count": 62,
   "id": "7d2d73ba",
   "metadata": {},
   "outputs": [
    {
     "data": {
      "text/plain": [
       "{'kernel': 'rbf', 'gamma': 'auto', 'C': 100}"
      ]
     },
     "execution_count": 62,
     "metadata": {},
     "output_type": "execute_result"
    }
   ],
   "source": [
    "random_search_best_params"
   ]
  },
  {
   "cell_type": "markdown",
   "id": "2f43f3d7",
   "metadata": {},
   "source": [
    "Let's now use these current best parameters as a starting point for a more refined grid search. We'll use the same parameters as before, but we'll use a much smaller range of values for each parameter.\n",
    "\n",
    "NOTE: Depending on the speed of your computer, the following code could take 5-20 minutes to run."
   ]
  },
  {
   "cell_type": "code",
   "execution_count": 66,
   "id": "bced0b24",
   "metadata": {},
   "outputs": [
    {
     "name": "stdout",
     "output_type": "stream",
     "text": [
      "Grid Search - Best Parameters:\n",
      "{'C': 100, 'gamma': 'auto', 'kernel': 'rbf'}\n",
      "Grid Search - Recall SCore: 0.8888888888888888\n"
     ]
    }
   ],
   "source": [
    "# Get the best hyperparameters from the random search\n",
    "random_search_best_params = random_search.best_params_\n",
    "\n",
    "# Define a narrower grid for GridSearchCV based on the best hyperparameters from random search\n",
    "param_grid_for_grid = {\n",
    "    'C': [random_search_best_params['C'], random_search_best_params['C'] * 2, random_search_best_params['C'] / 2],\n",
    "    'kernel': [random_search_best_params['kernel']],\n",
    "    'gamma': [random_search_best_params['gamma']]\n",
    "}\n",
    "\n",
    "grid_search = GridSearchCV(SVC(), param_grid, cv=5)\n",
    "grid_search.fit(X_train, y_train)\n",
    "\n",
    "print(\"Grid Search - Best Parameters:\")\n",
    "print(grid_search.best_params_)\n",
    "\n",
    "# Evaluate the model with the best parameters on the test set\n",
    "grid_best_model = grid_search.best_estimator_\n",
    "y_pred = grid_best_model.predict(X_test)\n",
    "print(\"Grid Search - Recall SCore:\", recall_score(y_test, y_pred))"
   ]
  },
  {
   "cell_type": "markdown",
   "id": "942d8374",
   "metadata": {},
   "source": [
    "# Analysis Conclusion :\n",
    "\n",
    "The business requirement in this dataset is prediciting whether customer will churn based on the features. As Business does not want to lose customers, they want to identify potential churn out customers and make them non churn. So in this case High recall is the metric of Business requirement so we are evaluating model's performance based on recall. Decision Tree is the best model which had better recall compared to others but with chance of decision tree as our dataset is not that big even though we did train/test split there will be chances of overfit. but we did hyperparameters tuning and avoided overfitting with model giving best possible performance. After hyperparameters tuning applied on decision tree model it becomes better than the model without hyperparamaters tuning, reduced overfitting, increased robustness and convergence. Overall model performance is improved with that. SVC model Random search CV and Grid search gave us a recall score of 0.88 which is better than decision tree model itself will become the best fit for business. "
   ]
  }
 ],
 "metadata": {
  "kernelspec": {
   "display_name": "Python 3 (ipykernel)",
   "language": "python",
   "name": "python3"
  },
  "language_info": {
   "codemirror_mode": {
    "name": "ipython",
    "version": 3
   },
   "file_extension": ".py",
   "mimetype": "text/x-python",
   "name": "python",
   "nbconvert_exporter": "python",
   "pygments_lexer": "ipython3",
   "version": "3.11.5"
  }
 },
 "nbformat": 4,
 "nbformat_minor": 5
}
